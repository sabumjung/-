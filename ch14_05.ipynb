{
  "nbformat": 4,
  "nbformat_minor": 0,
  "metadata": {
    "colab": {
      "name": "ch14_05.ipynb",
      "version": "0.3.2",
      "provenance": [],
      "include_colab_link": true
    },
    "kernelspec": {
      "name": "python3",
      "display_name": "Python 3"
    },
    "accelerator": "GPU"
  },
  "cells": [
    {
      "cell_type": "markdown",
      "metadata": {
        "id": "view-in-github",
        "colab_type": "text"
      },
      "source": [
        "<a href=\"https://colab.research.google.com/github/sabumjung/Machine-Learning-Algorithm/blob/master/ch14_05.ipynb\" target=\"_parent\"><img src=\"https://colab.research.google.com/assets/colab-badge.svg\" alt=\"Open In Colab\"/></a>"
      ]
    },
    {
      "metadata": {
        "id": "ql2olOyqcycb",
        "colab_type": "text"
      },
      "cell_type": "markdown",
      "source": [
        "#케라스 내부 빨리 들여다 보기"
      ]
    },
    {
      "metadata": {
        "id": "g8vR0UfxYcCg",
        "colab_type": "code",
        "colab": {
          "base_uri": "https://localhost:8080/",
          "height": 34
        },
        "outputId": "1bbc89e4-e1e8-4ac3-c643-fb4321a85218"
      },
      "cell_type": "code",
      "source": [
        "import numpy as np\n",
        "\n",
        "from keras.datasets import cifar10\n",
        "from keras.models import Sequential\n",
        "from keras.layers.core import Dense, Dropout, Flatten\n",
        "from keras.layers.convolutional import Conv2D, ZeroPadding2D\n",
        "from keras.layers.pooling import MaxPooling2D\n",
        "from keras.utils import to_categorical"
      ],
      "execution_count": 94,
      "outputs": [
        {
          "output_type": "stream",
          "text": [
            "Using TensorFlow backend.\n"
          ],
          "name": "stderr"
        }
      ]
    },
    {
      "metadata": {
        "id": "77oHuLvxl2Mt",
        "colab_type": "code",
        "colab": {}
      },
      "cell_type": "code",
      "source": [
        "# For reproducibility\n",
        "np.random.seed(1000)"
      ],
      "execution_count": 0,
      "outputs": []
    },
    {
      "metadata": {
        "id": "IWLqejNxmU4X",
        "colab_type": "code",
        "colab": {
          "base_uri": "https://localhost:8080/",
          "height": 51
        },
        "outputId": "1b19230f-e4e8-4e27-d5a5-020fe177ffb3"
      },
      "cell_type": "code",
      "source": [
        "# Load the dataset\n",
        "(X_train, Y_train), (X_test, Y_test) = cifar10.load_data()"
      ],
      "execution_count": 96,
      "outputs": [
        {
          "output_type": "stream",
          "text": [
            "Downloading data from https://www.cs.toronto.edu/~kriz/cifar-10-python.tar.gz\n",
            "170500096/170498071 [==============================] - 25s 0us/step\n"
          ],
          "name": "stdout"
        }
      ]
    },
    {
      "metadata": {
        "id": "_loD7NWXm6RL",
        "colab_type": "code",
        "colab": {
          "base_uri": "https://localhost:8080/",
          "height": 68
        },
        "outputId": "0133ebac-afbe-4aff-a1b9-73ad874a6d19"
      },
      "cell_type": "code",
      "source": [
        "# Create the model\n",
        "model = Sequential()\n",
        "\n",
        "model.add(Conv2D(32, kernel_size=(5, 5), activation='relu', input_shape=(32, 32, 3)))\n",
        "model.add(MaxPooling2D(pool_size=(2, 2)))\n",
        "\n",
        "model.add(Conv2D(64, kernel_size=(4, 4), activation='relu'))\n",
        "model.add(ZeroPadding2D((1, 1)))\n",
        "\n",
        "model.add(Conv2D(128, kernel_size=(3, 3), activation='relu'))\n",
        "model.add(MaxPooling2D(pool_size=(2, 2)))\n",
        "model.add(ZeroPadding2D((1, 1)))\n",
        "\n",
        "model.add(Dropout(0.2))\n",
        "model.add(Flatten())\n",
        "model.add(Dense(128, activation='relu'))\n",
        "model.add(Dropout(0.2))\n",
        "model.add(Dense(10, activation='softmax'))"
      ],
      "execution_count": 97,
      "outputs": [
        {
          "output_type": "stream",
          "text": [
            "WARNING:tensorflow:From /usr/local/lib/python3.6/dist-packages/keras/backend/tensorflow_backend.py:3445: calling dropout (from tensorflow.python.ops.nn_ops) with keep_prob is deprecated and will be removed in a future version.\n",
            "Instructions for updating:\n",
            "Please use `rate` instead of `keep_prob`. Rate should be set to `rate = 1 - keep_prob`.\n"
          ],
          "name": "stdout"
        }
      ]
    },
    {
      "metadata": {
        "id": "AP7N2Q76m8RS",
        "colab_type": "code",
        "colab": {}
      },
      "cell_type": "code",
      "source": [
        "# Compile the model\n",
        "model.compile(loss='categorical_crossentropy', optimizer='adam', metrics=['accuracy'])"
      ],
      "execution_count": 0,
      "outputs": []
    },
    {
      "metadata": {
        "id": "2Fy_2uuum9gz",
        "colab_type": "code",
        "colab": {
          "base_uri": "https://localhost:8080/",
          "height": 544
        },
        "outputId": "68d43270-21d0-4455-ed65-c664551527b8"
      },
      "cell_type": "code",
      "source": [
        "# Train the model\n",
        "model.fit(X_train / 255.0, to_categorical(Y_train), batch_size=32, epochs=15)"
      ],
      "execution_count": 99,
      "outputs": [
        {
          "output_type": "stream",
          "text": [
            "Epoch 1/15\n",
            "50000/50000 [==============================] - 26s 511us/step - loss: 1.5824 - acc: 0.4202\n",
            "Epoch 2/15\n",
            "50000/50000 [==============================] - 25s 505us/step - loss: 1.2234 - acc: 0.5637\n",
            "Epoch 3/15\n",
            "50000/50000 [==============================] - 25s 505us/step - loss: 1.0709 - acc: 0.6216\n",
            "Epoch 4/15\n",
            "50000/50000 [==============================] - 25s 505us/step - loss: 0.9609 - acc: 0.6614\n",
            "Epoch 5/15\n",
            "50000/50000 [==============================] - 25s 508us/step - loss: 0.8774 - acc: 0.6906\n",
            "Epoch 6/15\n",
            "50000/50000 [==============================] - 26s 518us/step - loss: 0.8112 - acc: 0.7155\n",
            "Epoch 7/15\n",
            "50000/50000 [==============================] - 25s 508us/step - loss: 0.7450 - acc: 0.7373\n",
            "Epoch 8/15\n",
            "50000/50000 [==============================] - 25s 505us/step - loss: 0.7016 - acc: 0.7504\n",
            "Epoch 9/15\n",
            "50000/50000 [==============================] - 25s 505us/step - loss: 0.6489 - acc: 0.7696\n",
            "Epoch 10/15\n",
            "50000/50000 [==============================] - 25s 505us/step - loss: 0.6138 - acc: 0.7827\n",
            "Epoch 11/15\n",
            "50000/50000 [==============================] - 25s 509us/step - loss: 0.5816 - acc: 0.7949\n",
            "Epoch 12/15\n",
            "50000/50000 [==============================] - 25s 507us/step - loss: 0.5490 - acc: 0.8045\n",
            "Epoch 13/15\n",
            "50000/50000 [==============================] - 25s 508us/step - loss: 0.5200 - acc: 0.8155\n",
            "Epoch 14/15\n",
            "50000/50000 [==============================] - 25s 505us/step - loss: 0.4903 - acc: 0.8242\n",
            "Epoch 15/15\n",
            "50000/50000 [==============================] - 25s 504us/step - loss: 0.4613 - acc: 0.8335\n"
          ],
          "name": "stdout"
        },
        {
          "output_type": "execute_result",
          "data": {
            "text/plain": [
              "<keras.callbacks.History at 0x7fc0835bbcf8>"
            ]
          },
          "metadata": {
            "tags": []
          },
          "execution_count": 99
        }
      ]
    },
    {
      "metadata": {
        "id": "dBGmacpPm-yN",
        "colab_type": "code",
        "colab": {
          "base_uri": "https://localhost:8080/",
          "height": 68
        },
        "outputId": "0b134e2a-cc8e-4743-90bd-f8c4aed15de7"
      },
      "cell_type": "code",
      "source": [
        "# Evaluate the model\n",
        "scores = model.evaluate(X_test / 255.0, to_categorical(Y_test))\n",
        "\n",
        "print('Score: %.3f' % scores[0])\n",
        "print('Accuracy: %.3f' % scores[1])"
      ],
      "execution_count": 100,
      "outputs": [
        {
          "output_type": "stream",
          "text": [
            "10000/10000 [==============================] - 2s 156us/step\n",
            "Score: 0.971\n",
            "Accuracy: 0.710\n"
          ],
          "name": "stdout"
        }
      ]
    },
    {
      "metadata": {
        "id": "DiUI-rjdobNy",
        "colab_type": "code",
        "colab": {}
      },
      "cell_type": "code",
      "source": [
        ""
      ],
      "execution_count": 0,
      "outputs": []
    }
  ]
}