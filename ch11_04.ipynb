{
  "nbformat": 4,
  "nbformat_minor": 0,
  "metadata": {
    "colab": {
      "name": "ch11_04.ipynb",
      "version": "0.3.2",
      "provenance": [],
      "include_colab_link": true
    },
    "kernelspec": {
      "name": "python3",
      "display_name": "Python 3"
    }
  },
  "cells": [
    {
      "cell_type": "markdown",
      "metadata": {
        "id": "view-in-github",
        "colab_type": "text"
      },
      "source": [
        "<a href=\"https://colab.research.google.com/github/sabumjung/Machine-Learning-Algorithm/blob/master/ch11_04.ipynb\" target=\"_parent\"><img src=\"https://colab.research.google.com/assets/colab-badge.svg\" alt=\"Open In Colab\"/></a>"
      ]
    },
    {
      "metadata": {
        "id": "f9sFAieERaHY",
        "colab_type": "text"
      },
      "cell_type": "markdown",
      "source": [
        "# 모델-기반 협업 필터링"
      ]
    },
    {
      "metadata": {
        "id": "kl_YXubPRO9J",
        "colab_type": "code",
        "colab": {}
      },
      "cell_type": "code",
      "source": [
        "import numpy as np\n",
        "\n",
        "from scipy.linalg import svd"
      ],
      "execution_count": 0,
      "outputs": []
    },
    {
      "metadata": {
        "id": "t4uOQCkmRRIS",
        "colab_type": "code",
        "colab": {}
      },
      "cell_type": "code",
      "source": [
        "# For reproducibility\n",
        "np.random.seed(1000)"
      ],
      "execution_count": 0,
      "outputs": []
    },
    {
      "metadata": {
        "id": "5Lwt19gaRUWJ",
        "colab_type": "code",
        "colab": {
          "base_uri": "https://localhost:8080/",
          "height": 433
        },
        "outputId": "7b702e25-45e7-481b-b3ca-fc7d220c8356"
      },
      "cell_type": "code",
      "source": [
        "# Create a dummy user-item matrix\n",
        "M = np.random.randint(0, 6, size=(20, 10))\n",
        "\n",
        "print('User-Item matrix:')\n",
        "print(M)\n",
        "\n",
        "# Decompose M\n",
        "U, s, V = svd(M, full_matrices=True)\n",
        "S = np.diag(s)\n",
        "\n",
        "print('U -> %r' % str(U.shape))\n",
        "print('S -> %r' % str(S.shape))\n",
        "print('V -> %r' % str(V.shape))\n",
        "\n",
        "# Select the first 8 singular values\n",
        "Uk = U[:, 0:8]\n",
        "Sk = S[0:8, 0:8]\n",
        "Vk = V[0:8, :]\n",
        "\n",
        "# Compute the user and product vectors\n",
        "Su = Uk.dot(np.sqrt(Sk).T)\n",
        "Si = np.sqrt(Sk).dot(Vk).T\n",
        "\n",
        "# Compute the average rating per user\n",
        "Er = np.mean(M, axis=1)\n",
        "\n",
        "# Perform a prediction for the user 5 and item 2\n",
        "r5_2 = Er[5] + Su[5].dot(Si[2])\n",
        "print(r5_2)"
      ],
      "execution_count": 23,
      "outputs": [
        {
          "output_type": "stream",
          "text": [
            "User-Item matrix:\n",
            "[[3 0 3 4 1 5 0 1 5 0]\n",
            " [1 4 3 4 4 5 2 2 1 4]\n",
            " [4 2 1 0 2 4 4 5 2 4]\n",
            " [5 5 2 5 5 4 3 4 3 0]\n",
            " [4 2 5 2 4 0 4 4 3 1]\n",
            " [3 3 0 5 2 1 3 3 1 5]\n",
            " [5 3 4 5 3 0 0 2 2 5]\n",
            " [3 1 2 2 3 3 5 0 4 1]\n",
            " [0 1 1 0 0 0 2 3 1 5]\n",
            " [3 2 1 2 1 5 0 3 5 1]\n",
            " [4 3 3 3 4 3 5 0 1 3]\n",
            " [5 5 5 2 0 4 5 4 1 5]\n",
            " [5 5 1 4 1 4 5 0 2 1]\n",
            " [0 4 3 2 0 3 0 5 3 0]\n",
            " [4 3 3 3 3 5 4 4 2 4]\n",
            " [3 4 2 4 1 4 2 3 1 0]\n",
            " [5 4 4 4 3 5 4 2 1 0]\n",
            " [0 1 1 1 5 0 0 4 2 2]\n",
            " [1 2 0 4 2 0 1 1 1 3]\n",
            " [5 4 5 4 4 0 1 1 4 3]]\n",
            "U -> '(20, 20)'\n",
            "S -> '(10, 10)'\n",
            "V -> '(10, 10)'\n",
            "2.3884872011203746\n"
          ],
          "name": "stdout"
        }
      ]
    },
    {
      "metadata": {
        "id": "IYOj3tWqU0oN",
        "colab_type": "code",
        "colab": {}
      },
      "cell_type": "code",
      "source": [
        ""
      ],
      "execution_count": 0,
      "outputs": []
    }
  ]
}