{
  "nbformat": 4,
  "nbformat_minor": 0,
  "metadata": {
    "colab": {
      "name": "Untitled16.ipynb",
      "version": "0.3.2",
      "provenance": [],
      "include_colab_link": true
    },
    "kernelspec": {
      "name": "python2",
      "display_name": "Python 2"
    }
  },
  "cells": [
    {
      "cell_type": "markdown",
      "metadata": {
        "id": "view-in-github",
        "colab_type": "text"
      },
      "source": [
        "[View in Colaboratory](https://colab.research.google.com/github/sabumjung/Machine-Learning-Algorithm/blob/master/1missing_features.ipynb)"
      ]
    },
    {
      "metadata": {
        "id": "d5YTUCEFOCUG",
        "colab_type": "code",
        "colab": {}
      },
      "cell_type": "code",
      "source": [
        "from __future__ import print_function\n",
        "\n",
        "import numpy as np\n",
        "\n",
        "from sklearn.preprocessing import Imputer\n",
        "\n",
        "# For reproducibility\n",
        "np.random.seed(1000)\n",
        "\n",
        "if __name__ == '__main__':\n",
        "    data = np.array([[1, np.nan, 2], [2, 3, np.nan], [-1, 4, 2]])\n",
        "    print(data)\n",
        "\n",
        "    # Imputer with mean-strategy\n",
        "    print('Mean strategy')\n",
        "    imp = Imputer(strategy='mean')\n",
        "    print(imp.fit_transform(data))\n",
        "\n",
        "    # Imputer with median-strategy\n",
        "    print('Median strategy')\n",
        "    imp = Imputer(strategy='median')\n",
        "    print(imp.fit_transform(data))\n",
        "\n",
        "    # Imputer with most-frequent-strategy\n",
        "    print('Most-frequent strategy')\n",
        "    imp = Imputer(strategy='most_frequent')\n",
        "    print(imp.fit_transform(data))\n"
      ],
      "execution_count": 0,
      "outputs": []
    }
  ]
}
