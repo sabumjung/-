{
  "nbformat": 4,
  "nbformat_minor": 0,
  "metadata": {
    "colab": {
      "name": "ch02_최대우도학습.ipynb",
      "version": "0.3.2",
      "provenance": [],
      "include_colab_link": true
    },
    "kernelspec": {
      "name": "python3",
      "display_name": "Python 3"
    }
  },
  "cells": [
    {
      "cell_type": "markdown",
      "metadata": {
        "id": "view-in-github",
        "colab_type": "text"
      },
      "source": [
        "<a href=\"https://colab.research.google.com/github/sabumjung/Machine-Learning-Algorithm/blob/master/ch02_%EC%B5%9C%EB%8C%80%EC%9A%B0%EB%8F%84%ED%95%99%EC%8A%B5.ipynb\" target=\"_parent\"><img src=\"https://colab.research.google.com/assets/colab-badge.svg\" alt=\"Open In Colab\"/></a>"
      ]
    },
    {
      "metadata": {
        "id": "MGEb84lYr9Mn",
        "colab_type": "code",
        "colab": {}
      },
      "cell_type": "code",
      "source": [
        "import numpy as np\n",
        "nb_samples = 100\n",
        "X_data = np.random.normal(loc=0.0, scale=np.sqrt(2.0), size=nb_samples)"
      ],
      "execution_count": 0,
      "outputs": []
    },
    {
      "metadata": {
        "id": "yybs5EG5r98S",
        "colab_type": "code",
        "colab": {}
      },
      "cell_type": "code",
      "source": [
        "def negative_log_likelihood(v):\n",
        "  l = 0.0\n",
        "  f1 = 1.0 / np.sqrt(2.0 * np.pi * v[1])\n",
        "  f2 = 2.0 * v[1]\n",
        "  \n",
        "  for x in X_data:\n",
        "    l += np.log(f1 * np.exp(-np.square(x - v[0]) / f2))\n",
        "  return -l  "
      ],
      "execution_count": 0,
      "outputs": []
    },
    {
      "metadata": {
        "id": "nszq7PVBsM-s",
        "colab_type": "code",
        "colab": {
          "base_uri": "https://localhost:8080/",
          "height": 207
        },
        "outputId": "6b2ce051-5af2-400f-d526-9e976a26fa04"
      },
      "cell_type": "code",
      "source": [
        "from scipy.optimize import minimize\n",
        "minimize(fun=negative_log_likelihood, x0=[0.0, 1.0])"
      ],
      "execution_count": 3,
      "outputs": [
        {
          "output_type": "execute_result",
          "data": {
            "text/plain": [
              "      fun: 168.98495495794305\n",
              " hess_inv: array([[ 1.85858502, -0.42664476],\n",
              "       [-0.42664476,  0.10041441]])\n",
              "      jac: array([-5.72204590e-06, -9.53674316e-06])\n",
              "  message: 'Optimization terminated successfully.'\n",
              "     nfev: 52\n",
              "      nit: 10\n",
              "     njev: 13\n",
              "   status: 0\n",
              "  success: True\n",
              "        x: array([0.09804051, 1.71913572])"
            ]
          },
          "metadata": {
            "tags": []
          },
          "execution_count": 3
        }
      ]
    },
    {
      "metadata": {
        "id": "j0XCSat6sVLb",
        "colab_type": "code",
        "colab": {}
      },
      "cell_type": "code",
      "source": [
        ""
      ],
      "execution_count": 0,
      "outputs": []
    }
  ]
}