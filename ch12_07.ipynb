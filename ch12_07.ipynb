{
  "nbformat": 4,
  "nbformat_minor": 0,
  "metadata": {
    "colab": {
      "name": "ch12_07.ipynb",
      "version": "0.3.2",
      "provenance": [],
      "include_colab_link": true
    },
    "kernelspec": {
      "name": "python3",
      "display_name": "Python 3"
    },
    "accelerator": "GPU"
  },
  "cells": [
    {
      "cell_type": "markdown",
      "metadata": {
        "id": "view-in-github",
        "colab_type": "text"
      },
      "source": [
        "<a href=\"https://colab.research.google.com/github/sabumjung/Machine-Learning-Algorithm/blob/master/ch12_07.ipynb\" target=\"_parent\"><img src=\"https://colab.research.google.com/assets/colab-badge.svg\" alt=\"Open In Colab\"/></a>"
      ]
    },
    {
      "metadata": {
        "id": "2PIhVcxPVtob",
        "colab_type": "code",
        "colab": {}
      },
      "cell_type": "code",
      "source": [
        "import numpy as np\n",
        "\n",
        "from nltk.corpus import reuters, stopwords\n",
        "from nltk.tokenize import RegexpTokenizer\n",
        "from nltk.stem.snowball import SnowballStemmer\n",
        "\n",
        "from sklearn.feature_extraction.text import TfidfVectorizer\n",
        "from sklearn.model_selection import train_test_split\n",
        "from sklearn.ensemble import RandomForestClassifier"
      ],
      "execution_count": 0,
      "outputs": []
    },
    {
      "metadata": {
        "id": "TL_gecJnYgQp",
        "colab_type": "code",
        "colab": {}
      },
      "cell_type": "code",
      "source": [
        "# For reproducibility\n",
        "np.random.seed(1000)\n",
        "\n",
        "ret = RegexpTokenizer('[a-zA-Z0-9\\']+')\n",
        "sw = set(stopwords.words('english'))\n",
        "ess = SnowballStemmer('english', ignore_stopwords=True)\n",
        "\n",
        "\n",
        "def tokenizer(sentence):\n",
        "    tokens = ret.tokenize(sentence)\n",
        "    return [ess.stem(t) for t in tokens if t not in sw]"
      ],
      "execution_count": 0,
      "outputs": []
    },
    {
      "metadata": {
        "id": "diAWgGiUZbH8",
        "colab_type": "code",
        "colab": {
          "base_uri": "https://localhost:8080/",
          "height": 66
        },
        "outputId": "de3799cc-bba7-422f-e0e3-5013328f92f2"
      },
      "cell_type": "code",
      "source": [
        "import nltk\n",
        "nltk.download('reuters')"
      ],
      "execution_count": 33,
      "outputs": [
        {
          "output_type": "stream",
          "text": [
            "[nltk_data] Downloading package reuters to /root/nltk_data...\n",
            "[nltk_data]   Package reuters is already up-to-date!\n"
          ],
          "name": "stdout"
        },
        {
          "output_type": "execute_result",
          "data": {
            "text/plain": [
              "True"
            ]
          },
          "metadata": {
            "tags": []
          },
          "execution_count": 33
        }
      ]
    },
    {
      "metadata": {
        "id": "f6Rm0R-xYBc_",
        "colab_type": "code",
        "colab": {}
      },
      "cell_type": "code",
      "source": [
        "# Compose the corpus\n",
        "Xr = np.array(reuters.sents(categories=['rubber']))\n",
        "Xc = np.array(reuters.sents(categories=['cotton']))\n",
        "Xw = np.concatenate((Xr, Xc))\n",
        "X = []\n",
        "\n",
        "for document in Xw:\n",
        "    X.append(' '.join(document).strip().lower())\n",
        "\n",
        "# Create the label vectors\n",
        "Yr = np.zeros(shape=Xr.shape)\n",
        "Yc = np.ones(shape=Xc.shape)\n",
        "Y = np.concatenate((Yr, Yc))\n",
        "\n",
        "# Vectorize\n",
        "tfidfv = TfidfVectorizer(tokenizer=tokenizer, ngram_range=(1, 2), norm='l2')\n",
        "Xv = tfidfv.fit_transform(X)\n",
        "\n",
        "# Prepare train and test sets\n",
        "X_train, X_test, Y_train, Y_test = train_test_split(Xv, Y, test_size=0.25)\n",
        "\n",
        "# Create and train a Random Forest classifier\n",
        "rf = RandomForestClassifier(n_estimators=25)\n",
        "rf.fit(X_train, Y_train)\n",
        "\n",
        "# Test classifier\n",
        "score = rf.score(X_test, Y_test)\n",
        "print('Score: %.3f' % score)\n",
        "\n",
        "test_newsline = [\n",
        "    'Trading tobacco is reducing the amount of requests for cotton and this has a negative impact on our economy']\n",
        "yvt = tfidfv.transform(test_newsline)\n",
        "category = rf.predict(yvt)\n",
        "print('Predicted category: %d' % int(category[0]))"
      ],
      "execution_count": 0,
      "outputs": []
    },
    {
      "metadata": {
        "id": "g8vR0UfxYcCg",
        "colab_type": "code",
        "colab": {}
      },
      "cell_type": "code",
      "source": [
        ""
      ],
      "execution_count": 0,
      "outputs": []
    }
  ]
}