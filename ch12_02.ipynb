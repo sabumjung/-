{
  "nbformat": 4,
  "nbformat_minor": 0,
  "metadata": {
    "colab": {
      "name": "ch12_02.ipynb",
      "version": "0.3.2",
      "provenance": [],
      "include_colab_link": true
    },
    "kernelspec": {
      "name": "python3",
      "display_name": "Python 3"
    },
    "accelerator": "GPU"
  },
  "cells": [
    {
      "cell_type": "markdown",
      "metadata": {
        "id": "view-in-github",
        "colab_type": "text"
      },
      "source": [
        "<a href=\"https://colab.research.google.com/github/sabumjung/Machine-Learning-Algorithm/blob/master/ch12_02.ipynb\" target=\"_parent\"><img src=\"https://colab.research.google.com/assets/colab-badge.svg\" alt=\"Open In Colab\"/></a>"
      ]
    },
    {
      "metadata": {
        "id": "2PIhVcxPVtob",
        "colab_type": "code",
        "colab": {}
      },
      "cell_type": "code",
      "source": [
        "from nltk.tokenize import sent_tokenize\n",
        "from nltk.tokenize import TreebankWordTokenizer\n",
        "from nltk.tokenize import RegexpTokenizer"
      ],
      "execution_count": 0,
      "outputs": []
    },
    {
      "metadata": {
        "id": "LgrjAHTQW6Y3",
        "colab_type": "code",
        "colab": {}
      },
      "cell_type": "code",
      "source": [
        "# Sentence tokenizing\n",
        "print('Generic text:')\n",
        "generic_text = 'Lorem ipsum dolor sit amet, amet minim temporibus in sit. Vel ne impedit consequat intellegebat.'\n",
        "print(sent_tokenize(generic_text))\n",
        "\n",
        "print('English text:')\n",
        "english_text = 'Where is the closest train station? I need to reach London'\n",
        "print(sent_tokenize(english_text, language='english'))\n",
        "\n",
        "print('Spanish text:')\n",
        "spanish_text = u'¿Dónde está la estación más cercana? Inmediatamente me tengo que ir a Barcelona.'\n",
        "for sentence in sent_tokenize(spanish_text, language='spanish'):\n",
        "    print(sentence)\n",
        "\n",
        "# Word tokenizing\n",
        "# Create a Treebank word tokenizer\n",
        "tbwt = TreebankWordTokenizer()\n",
        "\n",
        "print('Simple text:')\n",
        "simple_text = 'This is a simple text.'\n",
        "print(tbwt.tokenize(simple_text))\n",
        "\n",
        "print('Complex text:')\n",
        "complex_text = 'This isn\\'t a simple text'\n",
        "print(tbwt.tokenize(complex_text))\n",
        "\n",
        "# Create a Regexp tokenizer\n",
        "ret = RegexpTokenizer('[a-zA-Z0-9\\'\\.]+')\n",
        "print(ret.tokenize(complex_text))\n",
        "\n",
        "# Create a more restrictive Regexp tokenizer\n",
        "ret = RegexpTokenizer('[a-zA-Z\\']+')\n",
        "\n",
        "complex_text = 'This isn\\'t a simple text. Count 1, 2, 3 and then go!'\n",
        "print(ret.tokenize(complex_text))"
      ],
      "execution_count": 0,
      "outputs": []
    }
  ]
}