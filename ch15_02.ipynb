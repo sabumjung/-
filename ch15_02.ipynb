{
  "nbformat": 4,
  "nbformat_minor": 0,
  "metadata": {
    "colab": {
      "name": "ch15_02.ipynb",
      "version": "0.3.2",
      "provenance": [],
      "include_colab_link": true
    },
    "kernelspec": {
      "name": "python3",
      "display_name": "Python 3"
    },
    "accelerator": "GPU"
  },
  "cells": [
    {
      "cell_type": "markdown",
      "metadata": {
        "id": "view-in-github",
        "colab_type": "text"
      },
      "source": [
        "<a href=\"https://colab.research.google.com/github/sabumjung/Machine-Learning-Algorithm/blob/master/ch15_02.ipynb\" target=\"_parent\"><img src=\"https://colab.research.google.com/assets/colab-badge.svg\" alt=\"Open In Colab\"/></a>"
      ]
    },
    {
      "metadata": {
        "id": "ql2olOyqcycb",
        "colab_type": "text"
      },
      "cell_type": "markdown",
      "source": [
        "#머신 러닝 아키텍처용 scikit-learn 도구"
      ]
    },
    {
      "metadata": {
        "id": "g8vR0UfxYcCg",
        "colab_type": "code",
        "colab": {}
      },
      "cell_type": "code",
      "source": [
        "import numpy as np\n",
        "import warnings\n",
        "\n",
        "from sklearn.datasets import load_digits\n",
        "from sklearn.decomposition import PCA, NMF\n",
        "from sklearn.feature_selection import SelectKBest, f_classif\n",
        "from sklearn.linear_model import LogisticRegression\n",
        "from sklearn.model_selection import GridSearchCV\n",
        "from sklearn.pipeline import Pipeline\n",
        "from sklearn.preprocessing import StandardScaler\n",
        "from sklearn.svm import SVC"
      ],
      "execution_count": 0,
      "outputs": []
    },
    {
      "metadata": {
        "id": "DiUI-rjdobNy",
        "colab_type": "code",
        "colab": {}
      },
      "cell_type": "code",
      "source": [
        "# For reproducibility\n",
        "np.random.seed(1000)"
      ],
      "execution_count": 0,
      "outputs": []
    },
    {
      "metadata": {
        "id": "8ldNfIZ7pNJm",
        "colab_type": "code",
        "colab": {}
      },
      "cell_type": "code",
      "source": [
        "# Load the dataset\n",
        "digits = load_digits()"
      ],
      "execution_count": 0,
      "outputs": []
    },
    {
      "metadata": {
        "id": "tViIQbI1pqmO",
        "colab_type": "code",
        "colab": {}
      },
      "cell_type": "code",
      "source": [
        "# Create the steps for the pipeline\n",
        "pca = PCA()\n",
        "nmf = NMF()\n",
        "scaler = StandardScaler()\n",
        "kbest = SelectKBest(f_classif)\n",
        "lr = LogisticRegression()\n",
        "svc = SVC()\n",
        "\n",
        "pipeline_steps = [\n",
        "    ('dimensionality_reduction', pca),\n",
        "    ('normalization', scaler),\n",
        "    ('classification', lr)\n",
        "]"
      ],
      "execution_count": 0,
      "outputs": []
    },
    {
      "metadata": {
        "id": "9MUEPYRwpsIL",
        "colab_type": "code",
        "colab": {}
      },
      "cell_type": "code",
      "source": [
        "# Create the pipeline\n",
        "pipeline = Pipeline(pipeline_steps)"
      ],
      "execution_count": 0,
      "outputs": []
    },
    {
      "metadata": {
        "id": "rIiJedhZptRo",
        "colab_type": "code",
        "colab": {}
      },
      "cell_type": "code",
      "source": [
        "# Perform a grid search\n",
        "pca_nmf_components = [10, 20, 30]\n",
        "\n",
        "param_grid = [\n",
        "    {\n",
        "        'dimensionality_reduction': [pca],\n",
        "        'dimensionality_reduction__n_components': pca_nmf_components,\n",
        "        'classification': [lr],\n",
        "        'classification__C': [1, 5, 10, 20]\n",
        "    },\n",
        "    {\n",
        "        'dimensionality_reduction': [pca],\n",
        "        'dimensionality_reduction__n_components': pca_nmf_components,\n",
        "        'classification': [svc],\n",
        "        'classification__kernel': ['rbf', 'poly'],\n",
        "        'classification__gamma': [0.05, 0.1, 0.2, 0.5, 1.0],\n",
        "        'classification__degree': [2, 3, 5],\n",
        "        'classification__C': [1, 5, 10, 20]\n",
        "    },\n",
        "    {\n",
        "        'dimensionality_reduction': [nmf],\n",
        "        'dimensionality_reduction__n_components': pca_nmf_components,\n",
        "        'classification': [lr],\n",
        "        'classification__C': [1, 5, 10, 20]\n",
        "    },\n",
        "    {\n",
        "        'dimensionality_reduction': [nmf],\n",
        "        'dimensionality_reduction__n_components': pca_nmf_components,\n",
        "        'classification': [svc],\n",
        "        'classification__kernel': ['rbf', 'poly'],\n",
        "        'classification__gamma': [0.05, 0.1, 0.2, 0.5, 1.0],\n",
        "        'classification__degree': [2, 3, 5],\n",
        "        'classification__C': [1, 5, 10, 20]\n",
        "    },\n",
        "    {\n",
        "        'dimensionality_reduction': [kbest],\n",
        "        'classification': [svc],\n",
        "        'classification__kernel': ['rbf', 'poly'],\n",
        "        'classification__gamma': [0.05, 0.1, 0.2, 0.5, 1.0],\n",
        "        'classification__degree': [2, 3, 5],\n",
        "        'classification__C': [1, 5, 10, 20]\n",
        "    },\n",
        "]\n",
        "\n",
        "gs = GridSearchCV(pipeline, param_grid)\n",
        "gs.fit(digits.data, digits.target)"
      ],
      "execution_count": 0,
      "outputs": []
    },
    {
      "metadata": {
        "id": "qoc4F4nbpvNE",
        "colab_type": "code",
        "colab": {}
      },
      "cell_type": "code",
      "source": [
        "print('Best estimator:')\n",
        "print(gs.best_estimator_)"
      ],
      "execution_count": 0,
      "outputs": []
    },
    {
      "metadata": {
        "id": "g0hFdOH0pwos",
        "colab_type": "code",
        "colab": {}
      },
      "cell_type": "code",
      "source": [
        "print('Best score:')\n",
        "print(gs.best_score_)"
      ],
      "execution_count": 0,
      "outputs": []
    },
    {
      "metadata": {
        "id": "1MsXP9YnpxDi",
        "colab_type": "code",
        "colab": {}
      },
      "cell_type": "code",
      "source": [
        ""
      ],
      "execution_count": 0,
      "outputs": []
    }
  ]
}