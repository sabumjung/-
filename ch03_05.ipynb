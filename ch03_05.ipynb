{
  "nbformat": 4,
  "nbformat_minor": 0,
  "metadata": {
    "colab": {
      "name": "ch03_05.ipynb",
      "version": "0.3.2",
      "provenance": [],
      "include_colab_link": true
    },
    "kernelspec": {
      "name": "python3",
      "display_name": "Python 3"
    }
  },
  "cells": [
    {
      "cell_type": "markdown",
      "metadata": {
        "id": "view-in-github",
        "colab_type": "text"
      },
      "source": [
        "<a href=\"https://colab.research.google.com/github/sabumjung/Machine-Learning-Algorithm/blob/master/ch03_05.ipynb\" target=\"_parent\"><img src=\"https://colab.research.google.com/assets/colab-badge.svg\" alt=\"Open In Colab\"/></a>"
      ]
    },
    {
      "metadata": {
        "id": "Rz8xMenvCXbT",
        "colab_type": "text"
      },
      "cell_type": "markdown",
      "source": [
        "# 음수 미포함 행렬 분해"
      ]
    },
    {
      "metadata": {
        "id": "vBqLhXTACWor",
        "colab_type": "code",
        "colab": {}
      },
      "cell_type": "code",
      "source": [
        "import numpy as np\n",
        "\n",
        "from sklearn.datasets import load_iris\n",
        "from sklearn.decomposition import NMF\n",
        "\n",
        "# For reproducibility\n",
        "np.random.seed(1000)"
      ],
      "execution_count": 0,
      "outputs": []
    },
    {
      "metadata": {
        "id": "V5zpOk38DPWR",
        "colab_type": "code",
        "colab": {
          "base_uri": "https://localhost:8080/",
          "height": 52
        },
        "outputId": "bef29801-f162-4fd0-b4db-59a55c0d237c"
      },
      "cell_type": "code",
      "source": [
        "# Load iris dataset\n",
        "iris = load_iris()\n",
        "print('Irid dataset shape')\n",
        "print(iris.data.shape)"
      ],
      "execution_count": 3,
      "outputs": [
        {
          "output_type": "stream",
          "text": [
            "Irid dataset shape\n",
            "(150, 4)\n"
          ],
          "name": "stdout"
        }
      ]
    },
    {
      "metadata": {
        "id": "os8EphXhDRT_",
        "colab_type": "code",
        "colab": {}
      },
      "cell_type": "code",
      "source": [
        "# Perform a non-negative matrix factorization\n",
        "nmf = NMF(n_components=3, init='random', l1_ratio=0.1)\n",
        "Xt = nmf.fit_transform(iris.data)"
      ],
      "execution_count": 0,
      "outputs": []
    },
    {
      "metadata": {
        "id": "IchDaWcFDX4k",
        "colab_type": "code",
        "colab": {
          "base_uri": "https://localhost:8080/",
          "height": 52
        },
        "outputId": "352c1d2e-28a4-40e2-a8b1-5bd5f0f01198"
      },
      "cell_type": "code",
      "source": [
        "print('Reconstruction error')\n",
        "print(nmf.reconstruction_err_)"
      ],
      "execution_count": 5,
      "outputs": [
        {
          "output_type": "stream",
          "text": [
            "Reconstruction error\n",
            "1.89005254205774\n"
          ],
          "name": "stdout"
        }
      ]
    },
    {
      "metadata": {
        "id": "be-D6pYeDa5c",
        "colab_type": "code",
        "colab": {
          "base_uri": "https://localhost:8080/",
          "height": 52
        },
        "outputId": "20856415-44f8-475c-91c8-8e8439c3e930"
      },
      "cell_type": "code",
      "source": [
        "print('Original Iris sample')\n",
        "print(iris.data[0])"
      ],
      "execution_count": 6,
      "outputs": [
        {
          "output_type": "stream",
          "text": [
            "Original Iris sample\n",
            "[5.1 3.5 1.4 0.2]\n"
          ],
          "name": "stdout"
        }
      ]
    },
    {
      "metadata": {
        "id": "cNsqXvxFDcrJ",
        "colab_type": "code",
        "colab": {
          "base_uri": "https://localhost:8080/",
          "height": 52
        },
        "outputId": "edb82e48-43be-480f-c064-1b679bbe3ca6"
      },
      "cell_type": "code",
      "source": [
        "print('Compressed Iris sample (via Non-Negative Matrix Factorization)')\n",
        "print(Xt[0])"
      ],
      "execution_count": 7,
      "outputs": [
        {
          "output_type": "stream",
          "text": [
            "Compressed Iris sample (via Non-Negative Matrix Factorization)\n",
            "[1.23270986 1.11728116 0.10824566]\n"
          ],
          "name": "stdout"
        }
      ]
    },
    {
      "metadata": {
        "id": "6almf5SoDe0q",
        "colab_type": "code",
        "colab": {
          "base_uri": "https://localhost:8080/",
          "height": 52
        },
        "outputId": "49172c53-133b-46fd-d281-9b71dc430dc6"
      },
      "cell_type": "code",
      "source": [
        "print('Rebuilt sample')\n",
        "print(nmf.inverse_transform(Xt[0]))"
      ],
      "execution_count": 8,
      "outputs": [
        {
          "output_type": "stream",
          "text": [
            "Rebuilt sample\n",
            "[5.10030776 3.49993422 1.40034931 0.19884065]\n"
          ],
          "name": "stdout"
        }
      ]
    },
    {
      "metadata": {
        "id": "Ms_9LN6DDf6u",
        "colab_type": "code",
        "colab": {}
      },
      "cell_type": "code",
      "source": [
        ""
      ],
      "execution_count": 0,
      "outputs": []
    }
  ]
}