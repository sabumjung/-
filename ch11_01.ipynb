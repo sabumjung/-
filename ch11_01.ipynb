{
  "nbformat": 4,
  "nbformat_minor": 0,
  "metadata": {
    "colab": {
      "name": "ch11_01.ipynb",
      "version": "0.3.2",
      "provenance": [],
      "include_colab_link": true
    },
    "kernelspec": {
      "name": "python3",
      "display_name": "Python 3"
    }
  },
  "cells": [
    {
      "cell_type": "markdown",
      "metadata": {
        "id": "view-in-github",
        "colab_type": "text"
      },
      "source": [
        "<a href=\"https://colab.research.google.com/github/sabumjung/Machine-Learning-Algorithm/blob/master/ch11_01.ipynb\" target=\"_parent\"><img src=\"https://colab.research.google.com/assets/colab-badge.svg\" alt=\"Open In Colab\"/></a>"
      ]
    },
    {
      "metadata": {
        "id": "f9sFAieERaHY",
        "colab_type": "text"
      },
      "cell_type": "markdown",
      "source": [
        "# scikit 학습을 이용한 사용자-기반 시스템 구현"
      ]
    },
    {
      "metadata": {
        "id": "kl_YXubPRO9J",
        "colab_type": "code",
        "colab": {}
      },
      "cell_type": "code",
      "source": [
        "import numpy as np\n",
        "\n",
        "from sklearn.neighbors import NearestNeighbors"
      ],
      "execution_count": 0,
      "outputs": []
    },
    {
      "metadata": {
        "id": "t4uOQCkmRRIS",
        "colab_type": "code",
        "colab": {}
      },
      "cell_type": "code",
      "source": [
        "# For reproducibility\n",
        "np.random.seed(1000)\n",
        "\n",
        "nb_users = 1000\n",
        "nb_product = 20"
      ],
      "execution_count": 0,
      "outputs": []
    },
    {
      "metadata": {
        "id": "5Lwt19gaRUWJ",
        "colab_type": "code",
        "colab": {}
      },
      "cell_type": "code",
      "source": [
        "# Create the user dataset\n",
        "users = np.zeros(shape=(nb_users, 4))\n",
        "\n",
        "for i in range(nb_users):\n",
        "    users[i, 0] = np.random.randint(0, 4)\n",
        "    users[i, 1] = np.random.randint(0, 2)\n",
        "    users[i, 2] = np.random.randint(0, 5)\n",
        "    users[i, 2] = np.random.randint(0, 5)"
      ],
      "execution_count": 0,
      "outputs": []
    },
    {
      "metadata": {
        "id": "j5tPbLOiRo-V",
        "colab_type": "code",
        "colab": {
          "base_uri": "https://localhost:8080/",
          "height": 50
        },
        "outputId": "1d2327a0-faf2-43fc-bc5d-1a55a0094c4c"
      },
      "cell_type": "code",
      "source": [
        "# Create user-product dataset\n",
        "user_products = np.random.randint(0, nb_product, size=(nb_users, 5))\n",
        "\n",
        "# Fit k-nearest neighbors\n",
        "nn = NearestNeighbors(n_neighbors=20, radius=2.0)\n",
        "nn.fit(users)"
      ],
      "execution_count": 7,
      "outputs": [
        {
          "output_type": "execute_result",
          "data": {
            "text/plain": [
              "NearestNeighbors(algorithm='auto', leaf_size=30, metric='minkowski',\n",
              "         metric_params=None, n_jobs=None, n_neighbors=20, p=2, radius=2.0)"
            ]
          },
          "metadata": {
            "tags": []
          },
          "execution_count": 7
        }
      ]
    },
    {
      "metadata": {
        "id": "tydxfqPmRXAC",
        "colab_type": "code",
        "colab": {
          "base_uri": "https://localhost:8080/",
          "height": 66
        },
        "outputId": "52daf111-82e5-4001-8e15-b78d64906917"
      },
      "cell_type": "code",
      "source": [
        "# Create a test user\n",
        "test_user = np.array([2, 0, 3, 2])\n",
        "\n",
        "# Determine the neighbors\n",
        "d, neighbors = nn.kneighbors(test_user.reshape(1, -1))\n",
        "\n",
        "print('Neighbors:')\n",
        "print(neighbors)"
      ],
      "execution_count": 4,
      "outputs": [
        {
          "output_type": "stream",
          "text": [
            "Neighbors:\n",
            "[[330  94 429 671 551  18 704 731 344 244 554 414 335 765  68 497 180 848\n",
            "  579 810]]\n"
          ],
          "name": "stdout"
        }
      ]
    },
    {
      "metadata": {
        "id": "GhPL9alORYjn",
        "colab_type": "code",
        "colab": {
          "base_uri": "https://localhost:8080/",
          "height": 50
        },
        "outputId": "181a9bb3-7a9a-4609-80b4-4f5e24f90330"
      },
      "cell_type": "code",
      "source": [
        "# Determine the suggested products\n",
        "suggested_products = []\n",
        "\n",
        "for n in neighbors:\n",
        "    for products in user_products[n]:\n",
        "        for product in products:\n",
        "            if product != 0 and product not in suggested_products:\n",
        "                suggested_products.append(product)\n",
        "\n",
        "print('Suggested products:')\n",
        "print(suggested_products)"
      ],
      "execution_count": 5,
      "outputs": [
        {
          "output_type": "stream",
          "text": [
            "Suggested products:\n",
            "[2, 11, 13, 19, 12, 9, 18, 10, 15, 17, 5, 1, 8, 6, 14, 7, 4, 3, 16]\n"
          ],
          "name": "stdout"
        }
      ]
    },
    {
      "metadata": {
        "id": "eOipJi18RZFY",
        "colab_type": "code",
        "colab": {}
      },
      "cell_type": "code",
      "source": [
        ""
      ],
      "execution_count": 0,
      "outputs": []
    }
  ]
}