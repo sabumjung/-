{
  "nbformat": 4,
  "nbformat_minor": 0,
  "metadata": {
    "colab": {
      "name": "ch03_07.ipynb",
      "version": "0.3.2",
      "provenance": [],
      "private_outputs": true,
      "include_colab_link": true
    },
    "kernelspec": {
      "name": "python3",
      "display_name": "Python 3"
    },
    "accelerator": "GPU"
  },
  "cells": [
    {
      "cell_type": "markdown",
      "metadata": {
        "id": "view-in-github",
        "colab_type": "text"
      },
      "source": [
        "<a href=\"https://colab.research.google.com/github/sabumjung/Machine-Learning-Algorithm/blob/master/ch03_07.ipynb\" target=\"_parent\"><img src=\"https://colab.research.google.com/assets/colab-badge.svg\" alt=\"Open In Colab\"/></a>"
      ]
    },
    {
      "metadata": {
        "id": "e13xkWvtG4ub",
        "colab_type": "text"
      },
      "cell_type": "markdown",
      "source": [
        "# 원자 추출 및 딕셔너리 학습"
      ]
    },
    {
      "metadata": {
        "id": "zLO6PndeGzmg",
        "colab_type": "code",
        "colab": {}
      },
      "cell_type": "code",
      "source": [
        "import numpy as np\n",
        "import matplotlib.pyplot as plt\n",
        "\n",
        "from sklearn.datasets import load_digits\n",
        "from sklearn.decomposition import DictionaryLearning\n",
        "\n",
        "# For reproducibility\n",
        "np.random.seed(1000)"
      ],
      "execution_count": 0,
      "outputs": []
    },
    {
      "metadata": {
        "id": "_tfx0j_IHC60",
        "colab_type": "code",
        "colab": {}
      },
      "cell_type": "code",
      "source": [
        "# Load MNIST digits\n",
        "digits = load_digits()"
      ],
      "execution_count": 0,
      "outputs": []
    },
    {
      "metadata": {
        "id": "yw6iaO3iHGo-",
        "colab_type": "code",
        "colab": {}
      },
      "cell_type": "code",
      "source": [
        "# Perform a dictionary learning (and atom extraction) from the MNIST dataset\n",
        "dl = DictionaryLearning(n_components=36, fit_algorithm='lars', transform_algorithm='lasso_lars')\n",
        "X_dict = dl.fit_transform(digits.data)"
      ],
      "execution_count": 0,
      "outputs": []
    },
    {
      "metadata": {
        "id": "W7zv6DOxHJnD",
        "colab_type": "code",
        "colab": {}
      },
      "cell_type": "code",
      "source": [
        "# Show the atoms that have been extracted\n",
        "fig, ax = plt.subplots(6, 6, figsize=(8, 8))\n",
        "\n",
        "samples = [dl.components_[x].reshape((8, 8)) for x in range(34)]\n",
        "\n",
        "for i in range(6):\n",
        "    for j in range(6):\n",
        "        ax[i, j].set_axis_off()\n",
        "        ax[i, j].imshow(samples[(i * 5) + j], cmap='gray')\n",
        "\n",
        "plt.show()"
      ],
      "execution_count": 0,
      "outputs": []
    },
    {
      "metadata": {
        "id": "1wRQoPU3HKiS",
        "colab_type": "code",
        "colab": {}
      },
      "cell_type": "code",
      "source": [
        ""
      ],
      "execution_count": 0,
      "outputs": []
    }
  ]
}