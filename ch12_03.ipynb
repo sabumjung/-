{
  "nbformat": 4,
  "nbformat_minor": 0,
  "metadata": {
    "colab": {
      "name": "ch12_03.ipynb",
      "version": "0.3.2",
      "provenance": [],
      "include_colab_link": true
    },
    "kernelspec": {
      "name": "python3",
      "display_name": "Python 3"
    },
    "accelerator": "GPU"
  },
  "cells": [
    {
      "cell_type": "markdown",
      "metadata": {
        "id": "view-in-github",
        "colab_type": "text"
      },
      "source": [
        "<a href=\"https://colab.research.google.com/github/sabumjung/Machine-Learning-Algorithm/blob/master/ch12_03.ipynb\" target=\"_parent\"><img src=\"https://colab.research.google.com/assets/colab-badge.svg\" alt=\"Open In Colab\"/></a>"
      ]
    },
    {
      "metadata": {
        "id": "2PIhVcxPVtob",
        "colab_type": "code",
        "colab": {}
      },
      "cell_type": "code",
      "source": [
        "from nltk.corpus import stopwords\n",
        "from nltk.tokenize import RegexpTokenizer"
      ],
      "execution_count": 0,
      "outputs": []
    },
    {
      "metadata": {
        "id": "LgrjAHTQW6Y3",
        "colab_type": "code",
        "colab": {}
      },
      "cell_type": "code",
      "source": [
        "# Load English stopwords\n",
        "sw = set(stopwords.words('english'))\n",
        "\n",
        "print('English stopwords:')\n",
        "print(sw)\n",
        "\n",
        "# Tokenize and remove stopwords\n",
        "complex_text = 'This isn\\'t a simple text. Count 1, 2, 3 and then go!'\n",
        "\n",
        "ret = RegexpTokenizer('[a-zA-Z\\']+')\n",
        "tokens = ret.tokenize(complex_text)\n",
        "clean_tokens = [t for t in tokens if t not in sw]\n",
        "\n",
        "print('Tokenized and cleaned complex text')\n",
        "print(clean_tokens)"
      ],
      "execution_count": 0,
      "outputs": []
    },
    {
      "metadata": {
        "id": "jBxtJzuAXHB0",
        "colab_type": "code",
        "colab": {}
      },
      "cell_type": "code",
      "source": [
        ""
      ],
      "execution_count": 0,
      "outputs": []
    }
  ]
}