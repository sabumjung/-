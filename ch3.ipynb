{
  "nbformat": 4,
  "nbformat_minor": 0,
  "metadata": {
    "colab": {
      "name": "Hello, Colaboratory",
      "version": "0.3.2",
      "provenance": [],
      "collapsed_sections": [],
      "include_colab_link": true
    },
    "kernelspec": {
      "display_name": "Python 3",
      "name": "python3"
    },
    "accelerator": "GPU"
  },
  "cells": [
    {
      "cell_type": "markdown",
      "metadata": {
        "id": "view-in-github",
        "colab_type": "text"
      },
      "source": [
        "[View in Colaboratory](https://colab.research.google.com/github/sabumjung/Machine-Learning-Algorithm/blob/master/ch3.ipynb)"
      ]
    },
    {
      "metadata": {
        "id": "l7I_gU2pgheL",
        "colab_type": "code",
        "colab": {
          "base_uri": "https://localhost:8080/",
          "height": 35
        },
        "outputId": "3dd3b998-75ac-4f98-f4fb-109196693ca6"
      },
      "cell_type": "code",
      "source": [
        "#원서 45 : toy datasets가져오기\n",
        "from sklearn.datasets import load_boston\n",
        "boston=load_boston()\n",
        "X=boston.data\n",
        "Y=boston.target\n",
        "print(X.shape, Y.shape)"
      ],
      "execution_count": 28,
      "outputs": [
        {
          "output_type": "stream",
          "text": [
            "(506, 13) (506,)\n"
          ],
          "name": "stdout"
        }
      ]
    },
    {
      "metadata": {
        "id": "aGDTLC3CzQlv",
        "colab_type": "code",
        "colab": {
          "base_uri": "https://localhost:8080/",
          "height": 52
        },
        "outputId": "713f54ed-2849-4687-c65e-3bb5dedf1add"
      },
      "cell_type": "code",
      "source": [
        "#원서 47 : training와 test 데이터셋 만들기\n",
        "from sklearn.model_selection import train_test_split\n",
        "\n",
        "X_train, X_test, Y_train, Y_test = train_test_split(X, Y, test_size=0.25, random_state=1000)\n",
        "print(X.shape, X_train.shape, Y_train.shape, X_test.shape, Y_test.shape)\n",
        "print(\"훈련용 데이터 비율 : \", len(X_train)/len(X))"
      ],
      "execution_count": 29,
      "outputs": [
        {
          "output_type": "stream",
          "text": [
            "(506, 13) (379, 13) (379,) (127, 13) (127,)\n",
            "훈련용 데이터 비율 :  0.7490118577075099\n"
          ],
          "name": "stdout"
        }
      ]
    },
    {
      "metadata": {
        "id": "s_JevZ2106aZ",
        "colab_type": "code",
        "colab": {
          "base_uri": "https://localhost:8080/",
          "height": 52
        },
        "outputId": "cbcb2c5a-80ee-449e-9a56-a66fb86b3947"
      },
      "cell_type": "code",
      "source": [
        "#원서 47 : training와 test 데이터셋 만들기\n",
        "from sklearn.utils import check_random_state\n",
        "rs=check_random_state(1000)\n",
        "print(rs)\n",
        "X_train, X_test, Y_train, Y_test = train_test_split(X, Y, test_size=0.25, random_state=rs)\n",
        "print(\"테스트용 데이터 비율 : \", len(X_test)/len(X))"
      ],
      "execution_count": 30,
      "outputs": [
        {
          "output_type": "stream",
          "text": [
            "<mtrand.RandomState object at 0x7f823b7612d0>\n",
            "테스트용 데이터 비율 :  0.2509881422924901\n"
          ],
          "name": "stdout"
        }
      ]
    },
    {
      "metadata": {
        "id": "qeeBoc-CDX6s",
        "colab_type": "code",
        "colab": {
          "base_uri": "https://localhost:8080/",
          "height": 52
        },
        "outputId": "17220d6a-3cf2-496f-858e-da6ededa1c22"
      },
      "cell_type": "code",
      "source": [
        "#원서 48 : 이산형 데이터 관리\n",
        "import numpy as np\n",
        "X=np.random.uniform(0.0, 1.0, size=(10,2))\n",
        "Y=np.random.choice(('Male', 'Female'), size=(10))\n",
        "print(X[0])\n",
        "print(Y[0])"
      ],
      "execution_count": 31,
      "outputs": [
        {
          "output_type": "stream",
          "text": [
            "[0.9870994  0.10141285]\n",
            "Female\n"
          ],
          "name": "stdout"
        }
      ]
    },
    {
      "metadata": {
        "id": "7tnECyVzEBwf",
        "colab_type": "code",
        "colab": {
          "base_uri": "https://localhost:8080/",
          "height": 52
        },
        "outputId": "c9b99502-8b76-4503-ac05-932020584074"
      },
      "cell_type": "code",
      "source": [
        "#원서 48 : 이산형 데이터 관리\n",
        "from sklearn.preprocessing import LabelEncoder\n",
        "le=LabelEncoder()\n",
        "yt=le.fit_transform(Y)\n",
        "print(yt)\n",
        "\n",
        "le.classes_"
      ],
      "execution_count": 32,
      "outputs": [
        {
          "output_type": "stream",
          "text": [
            "[0 0 1 1 0 1 0 0 0 1]\n"
          ],
          "name": "stdout"
        },
        {
          "output_type": "execute_result",
          "data": {
            "text/plain": [
              "array(['Female', 'Male'], dtype='<U6')"
            ]
          },
          "metadata": {
            "tags": []
          },
          "execution_count": 32
        }
      ]
    },
    {
      "metadata": {
        "id": "OezEV-wVUjxC",
        "colab_type": "code",
        "colab": {
          "base_uri": "https://localhost:8080/",
          "height": 35
        },
        "outputId": "a1db4cd8-f758-498c-f431-f8627a7bc68b"
      },
      "cell_type": "code",
      "source": [
        "#원서 48 : 이산형 데이터 관리\n",
        "output=[1, 0, 1, 1, 0, 0]\n",
        "decoded_output=[le.classes_[i] for i in output]\n",
        "print(decoded_output)"
      ],
      "execution_count": 33,
      "outputs": [
        {
          "output_type": "stream",
          "text": [
            "['Male', 'Female', 'Male', 'Male', 'Female', 'Female']\n"
          ],
          "name": "stdout"
        }
      ]
    },
    {
      "metadata": {
        "id": "l48Ip3pXXeDz",
        "colab_type": "code",
        "colab": {
          "base_uri": "https://localhost:8080/",
          "height": 225
        },
        "outputId": "51118826-db99-4939-ec62-9dae7c5eeda5"
      },
      "cell_type": "code",
      "source": [
        "#원서 48 : 이산형 데이터 관리\n",
        "from sklearn.preprocessing import LabelBinarizer\n",
        "#Binarizer는 기준값(threshold)값을 기준으로 결과를 0, 1로 구분한다. 디폴트 기준값은 0 이다.\n",
        "lb=LabelBinarizer()\n",
        "Yb=lb.fit_transform(Y)\n",
        "print(Yb)\n",
        "lb.inverse_transform(Yb)"
      ],
      "execution_count": 36,
      "outputs": [
        {
          "output_type": "stream",
          "text": [
            "[[0]\n",
            " [0]\n",
            " [1]\n",
            " [1]\n",
            " [0]\n",
            " [1]\n",
            " [0]\n",
            " [0]\n",
            " [0]\n",
            " [1]]\n"
          ],
          "name": "stdout"
        },
        {
          "output_type": "execute_result",
          "data": {
            "text/plain": [
              "array(['Female', 'Female', 'Male', 'Male', 'Female', 'Male', 'Female',\n",
              "       'Female', 'Female', 'Male'], dtype='<U6')"
            ]
          },
          "metadata": {
            "tags": []
          },
          "execution_count": 36
        }
      ]
    },
    {
      "metadata": {
        "id": "R_597cUwu3VK",
        "colab_type": "code",
        "colab": {
          "base_uri": "https://localhost:8080/",
          "height": 190
        },
        "outputId": "dc5367d3-3acc-4fa2-c5ae-78f7ee8a1870"
      },
      "cell_type": "code",
      "source": [
        "import numpy as np\n",
        "\n",
        "Y=lb.fit_transform(Y)\n",
        "print(Y)"
      ],
      "execution_count": 39,
      "outputs": [
        {
          "output_type": "stream",
          "text": [
            "[[0]\n",
            " [0]\n",
            " [1]\n",
            " [1]\n",
            " [0]\n",
            " [1]\n",
            " [0]\n",
            " [0]\n",
            " [0]\n",
            " [1]]\n"
          ],
          "name": "stdout"
        }
      ]
    },
    {
      "metadata": {
        "id": "ro8zIxbpb1Zq",
        "colab_type": "code",
        "colab": {
          "base_uri": "https://localhost:8080/",
          "height": 183
        },
        "outputId": "a5850482-9d03-4791-e669-5c2bbcc482af"
      },
      "cell_type": "code",
      "source": [
        "Yp=model.predict(X[0])\n",
        "print(Yp)"
      ],
      "execution_count": 40,
      "outputs": [
        {
          "output_type": "error",
          "ename": "NameError",
          "evalue": "ignored",
          "traceback": [
            "\u001b[0;31m---------------------------------------------------------------------------\u001b[0m",
            "\u001b[0;31mNameError\u001b[0m                                 Traceback (most recent call last)",
            "\u001b[0;32m<ipython-input-40-73a5d69194e4>\u001b[0m in \u001b[0;36m<module>\u001b[0;34m()\u001b[0m\n\u001b[0;32m----> 1\u001b[0;31m \u001b[0mYp\u001b[0m\u001b[0;34m=\u001b[0m\u001b[0mmodel\u001b[0m\u001b[0;34m.\u001b[0m\u001b[0mpredict\u001b[0m\u001b[0;34m(\u001b[0m\u001b[0mX\u001b[0m\u001b[0;34m[\u001b[0m\u001b[0;36m0\u001b[0m\u001b[0;34m]\u001b[0m\u001b[0;34m)\u001b[0m\u001b[0;34m\u001b[0m\u001b[0m\n\u001b[0m\u001b[1;32m      2\u001b[0m \u001b[0mprint\u001b[0m\u001b[0;34m(\u001b[0m\u001b[0mYp\u001b[0m\u001b[0;34m)\u001b[0m\u001b[0;34m\u001b[0m\u001b[0m\n",
            "\u001b[0;31mNameError\u001b[0m: name 'model' is not defined"
          ]
        }
      ]
    },
    {
      "metadata": {
        "id": "1jbSXQ7NhLMh",
        "colab_type": "code",
        "colab": {
          "base_uri": "https://localhost:8080/",
          "height": 183
        },
        "outputId": "4ddb8c35-33e9-4412-bf20-2760d4f9a1f0"
      },
      "cell_type": "code",
      "source": [
        "Ypr=np.round(Yp)\n",
        "print(Ypr)"
      ],
      "execution_count": 41,
      "outputs": [
        {
          "output_type": "error",
          "ename": "NameError",
          "evalue": "ignored",
          "traceback": [
            "\u001b[0;31m---------------------------------------------------------------------------\u001b[0m",
            "\u001b[0;31mNameError\u001b[0m                                 Traceback (most recent call last)",
            "\u001b[0;32m<ipython-input-41-67c12b15fd76>\u001b[0m in \u001b[0;36m<module>\u001b[0;34m()\u001b[0m\n\u001b[0;32m----> 1\u001b[0;31m \u001b[0mYpr\u001b[0m\u001b[0;34m=\u001b[0m\u001b[0mnp\u001b[0m\u001b[0;34m.\u001b[0m\u001b[0mround\u001b[0m\u001b[0;34m(\u001b[0m\u001b[0mYp\u001b[0m\u001b[0;34m)\u001b[0m\u001b[0;34m\u001b[0m\u001b[0m\n\u001b[0m\u001b[1;32m      2\u001b[0m \u001b[0mprint\u001b[0m\u001b[0;34m(\u001b[0m\u001b[0mYpr\u001b[0m\u001b[0;34m)\u001b[0m\u001b[0;34m\u001b[0m\u001b[0m\n",
            "\u001b[0;31mNameError\u001b[0m: name 'Yp' is not defined"
          ]
        }
      ]
    },
    {
      "metadata": {
        "id": "NQ_YSQkchM8i",
        "colab_type": "code",
        "colab": {
          "base_uri": "https://localhost:8080/",
          "height": 165
        },
        "outputId": "2f381ee8-ad90-48bf-9b56-27e3bbd1b25e"
      },
      "cell_type": "code",
      "source": [
        "lb.inverse_transform(Ypr)"
      ],
      "execution_count": 42,
      "outputs": [
        {
          "output_type": "error",
          "ename": "NameError",
          "evalue": "ignored",
          "traceback": [
            "\u001b[0;31m---------------------------------------------------------------------------\u001b[0m",
            "\u001b[0;31mNameError\u001b[0m                                 Traceback (most recent call last)",
            "\u001b[0;32m<ipython-input-42-e6b6fd996380>\u001b[0m in \u001b[0;36m<module>\u001b[0;34m()\u001b[0m\n\u001b[0;32m----> 1\u001b[0;31m \u001b[0mlb\u001b[0m\u001b[0;34m.\u001b[0m\u001b[0minverse_transform\u001b[0m\u001b[0;34m(\u001b[0m\u001b[0mYpr\u001b[0m\u001b[0;34m)\u001b[0m\u001b[0;34m\u001b[0m\u001b[0m\n\u001b[0m",
            "\u001b[0;31mNameError\u001b[0m: name 'Ypr' is not defined"
          ]
        }
      ]
    },
    {
      "metadata": {
        "id": "wFPp_UWEvXUk",
        "colab_type": "code",
        "colab": {
          "base_uri": "https://localhost:8080/",
          "height": 617
        },
        "outputId": "b7644588-90bc-4ac6-a831-8b94c369b441"
      },
      "cell_type": "code",
      "source": [
        "Yp=model.predict(X[0])\n",
        "Ypr=np.round(Yp)\n",
        "lp.inverse_transform(Ypr)"
      ],
      "execution_count": 0,
      "outputs": [
        {
          "output_type": "error",
          "ename": "ValueError",
          "evalue": "ignored",
          "traceback": [
            "\u001b[0;31m---------------------------------------------------------------------------\u001b[0m",
            "\u001b[0;31mValueError\u001b[0m                                Traceback (most recent call last)",
            "\u001b[0;32m<ipython-input-116-4066210d0bcb>\u001b[0m in \u001b[0;36m<module>\u001b[0;34m()\u001b[0m\n\u001b[0;32m----> 1\u001b[0;31m \u001b[0mYp\u001b[0m\u001b[0;34m=\u001b[0m\u001b[0mmodel\u001b[0m\u001b[0;34m.\u001b[0m\u001b[0mpredict\u001b[0m\u001b[0;34m(\u001b[0m\u001b[0mX\u001b[0m\u001b[0;34m[\u001b[0m\u001b[0;36m0\u001b[0m\u001b[0;34m]\u001b[0m\u001b[0;34m)\u001b[0m\u001b[0;34m\u001b[0m\u001b[0m\n\u001b[0m\u001b[1;32m      2\u001b[0m \u001b[0mYpr\u001b[0m\u001b[0;34m=\u001b[0m\u001b[0mnp\u001b[0m\u001b[0;34m.\u001b[0m\u001b[0mround\u001b[0m\u001b[0;34m(\u001b[0m\u001b[0mYp\u001b[0m\u001b[0;34m)\u001b[0m\u001b[0;34m\u001b[0m\u001b[0m\n\u001b[1;32m      3\u001b[0m \u001b[0mlp\u001b[0m\u001b[0;34m.\u001b[0m\u001b[0minverse_transform\u001b[0m\u001b[0;34m(\u001b[0m\u001b[0mYpr\u001b[0m\u001b[0;34m)\u001b[0m\u001b[0;34m\u001b[0m\u001b[0m\n",
            "\u001b[0;32m/usr/local/lib/python3.6/dist-packages/sklearn/linear_model/base.py\u001b[0m in \u001b[0;36mpredict\u001b[0;34m(self, X)\u001b[0m\n\u001b[1;32m    254\u001b[0m             \u001b[0mReturns\u001b[0m \u001b[0mpredicted\u001b[0m \u001b[0mvalues\u001b[0m\u001b[0;34m.\u001b[0m\u001b[0;34m\u001b[0m\u001b[0m\n\u001b[1;32m    255\u001b[0m         \"\"\"\n\u001b[0;32m--> 256\u001b[0;31m         \u001b[0;32mreturn\u001b[0m \u001b[0mself\u001b[0m\u001b[0;34m.\u001b[0m\u001b[0m_decision_function\u001b[0m\u001b[0;34m(\u001b[0m\u001b[0mX\u001b[0m\u001b[0;34m)\u001b[0m\u001b[0;34m\u001b[0m\u001b[0m\n\u001b[0m\u001b[1;32m    257\u001b[0m \u001b[0;34m\u001b[0m\u001b[0m\n\u001b[1;32m    258\u001b[0m     \u001b[0m_preprocess_data\u001b[0m \u001b[0;34m=\u001b[0m \u001b[0mstaticmethod\u001b[0m\u001b[0;34m(\u001b[0m\u001b[0m_preprocess_data\u001b[0m\u001b[0;34m)\u001b[0m\u001b[0;34m\u001b[0m\u001b[0m\n",
            "\u001b[0;32m/usr/local/lib/python3.6/dist-packages/sklearn/linear_model/base.py\u001b[0m in \u001b[0;36m_decision_function\u001b[0;34m(self, X)\u001b[0m\n\u001b[1;32m    237\u001b[0m         \u001b[0mcheck_is_fitted\u001b[0m\u001b[0;34m(\u001b[0m\u001b[0mself\u001b[0m\u001b[0;34m,\u001b[0m \u001b[0;34m\"coef_\"\u001b[0m\u001b[0;34m)\u001b[0m\u001b[0;34m\u001b[0m\u001b[0m\n\u001b[1;32m    238\u001b[0m \u001b[0;34m\u001b[0m\u001b[0m\n\u001b[0;32m--> 239\u001b[0;31m         \u001b[0mX\u001b[0m \u001b[0;34m=\u001b[0m \u001b[0mcheck_array\u001b[0m\u001b[0;34m(\u001b[0m\u001b[0mX\u001b[0m\u001b[0;34m,\u001b[0m \u001b[0maccept_sparse\u001b[0m\u001b[0;34m=\u001b[0m\u001b[0;34m[\u001b[0m\u001b[0;34m'csr'\u001b[0m\u001b[0;34m,\u001b[0m \u001b[0;34m'csc'\u001b[0m\u001b[0;34m,\u001b[0m \u001b[0;34m'coo'\u001b[0m\u001b[0;34m]\u001b[0m\u001b[0;34m)\u001b[0m\u001b[0;34m\u001b[0m\u001b[0m\n\u001b[0m\u001b[1;32m    240\u001b[0m         return safe_sparse_dot(X, self.coef_.T,\n\u001b[1;32m    241\u001b[0m                                dense_output=True) + self.intercept_\n",
            "\u001b[0;32m/usr/local/lib/python3.6/dist-packages/sklearn/utils/validation.py\u001b[0m in \u001b[0;36mcheck_array\u001b[0;34m(array, accept_sparse, dtype, order, copy, force_all_finite, ensure_2d, allow_nd, ensure_min_samples, ensure_min_features, warn_on_dtype, estimator)\u001b[0m\n\u001b[1;32m    439\u001b[0m                     \u001b[0;34m\"Reshape your data either using array.reshape(-1, 1) if \"\u001b[0m\u001b[0;34m\u001b[0m\u001b[0m\n\u001b[1;32m    440\u001b[0m                     \u001b[0;34m\"your data has a single feature or array.reshape(1, -1) \"\u001b[0m\u001b[0;34m\u001b[0m\u001b[0m\n\u001b[0;32m--> 441\u001b[0;31m                     \"if it contains a single sample.\".format(array))\n\u001b[0m\u001b[1;32m    442\u001b[0m             \u001b[0marray\u001b[0m \u001b[0;34m=\u001b[0m \u001b[0mnp\u001b[0m\u001b[0;34m.\u001b[0m\u001b[0matleast_2d\u001b[0m\u001b[0;34m(\u001b[0m\u001b[0marray\u001b[0m\u001b[0;34m)\u001b[0m\u001b[0;34m\u001b[0m\u001b[0m\n\u001b[1;32m    443\u001b[0m             \u001b[0;31m# To ensure that array flags are maintained\u001b[0m\u001b[0;34m\u001b[0m\u001b[0;34m\u001b[0m\u001b[0m\n",
            "\u001b[0;31mValueError\u001b[0m: Expected 2D array, got 1D array instead:\narray=[0.20819009 0.38944212].\nReshape your data either using array.reshape(-1, 1) if your data has a single feature or array.reshape(1, -1) if it contains a single sample."
          ]
        }
      ]
    },
    {
      "metadata": {
        "id": "IG5oxojnvo64",
        "colab_type": "code",
        "colab": {
          "base_uri": "https://localhost:8080/",
          "height": 69
        },
        "outputId": "22c2e98c-22cf-4e7a-c8a0-7644a1c2d589"
      },
      "cell_type": "code",
      "source": [
        "#원서 50\n",
        "data=[\n",
        "    {'feature_1':10.0, 'feature_2':15.0},\n",
        "    {'feature_1':-5.0, 'feature_3':22.0},\n",
        "    {'feature_3':-2.0, 'feature_4':10.0}\n",
        "]\n",
        "\n",
        "from sklearn.feature_extraction import DictVectorizer, FeatureHasher\n",
        "dv=DictVectorizer()\n",
        "Y_dict=dv.fit_transform(data)\n",
        "Y_dict.todense()"
      ],
      "execution_count": 48,
      "outputs": [
        {
          "output_type": "execute_result",
          "data": {
            "text/plain": [
              "matrix([[10., 15.,  0.,  0.],\n",
              "        [-5.,  0., 22.,  0.],\n",
              "        [ 0.,  0., -2., 10.]])"
            ]
          },
          "metadata": {
            "tags": []
          },
          "execution_count": 48
        }
      ]
    },
    {
      "metadata": {
        "id": "TaTzv6wCluzL",
        "colab_type": "code",
        "colab": {
          "base_uri": "https://localhost:8080/",
          "height": 35
        },
        "outputId": "3bc854d9-c2b2-4a0a-adfc-666e4a3a386f"
      },
      "cell_type": "code",
      "source": [
        "dv.vocabulary_"
      ],
      "execution_count": 51,
      "outputs": [
        {
          "output_type": "execute_result",
          "data": {
            "text/plain": [
              "{'feature_1': 0, 'feature_2': 1, 'feature_3': 2, 'feature_4': 3}"
            ]
          },
          "metadata": {
            "tags": []
          },
          "execution_count": 51
        }
      ]
    },
    {
      "metadata": {
        "id": "jg4wlOFvmQ3N",
        "colab_type": "code",
        "colab": {}
      },
      "cell_type": "code",
      "source": [
        "fh=FeatureHasher()\n",
        "Y_hashed=fh.fit_transform(data)"
      ],
      "execution_count": 0,
      "outputs": []
    },
    {
      "metadata": {
        "id": "zRa5ae6AmWaU",
        "colab_type": "code",
        "colab": {
          "base_uri": "https://localhost:8080/",
          "height": 69
        },
        "outputId": "f74f85e7-323a-4a2d-e2fb-cfc46164d755"
      },
      "cell_type": "code",
      "source": [
        "Y_hashed.todense()"
      ],
      "execution_count": 53,
      "outputs": [
        {
          "output_type": "execute_result",
          "data": {
            "text/plain": [
              "matrix([[0., 0., 0., ..., 0., 0., 0.],\n",
              "        [0., 0., 0., ..., 0., 0., 0.],\n",
              "        [0., 0., 0., ..., 0., 0., 0.]])"
            ]
          },
          "metadata": {
            "tags": []
          },
          "execution_count": 53
        }
      ]
    },
    {
      "metadata": {
        "id": "ac863rvbmYkk",
        "colab_type": "code",
        "colab": {}
      },
      "cell_type": "code",
      "source": [
        "#원서 50\n",
        "from sklearn.preprocessing import OneHotEncoder\n",
        "\n",
        "data=[\n",
        "    [0,10],\n",
        "    [1,11],\n",
        "    [1,8],\n",
        "    [0,12],\n",
        "    [0,15]\n",
        "]"
      ],
      "execution_count": 0,
      "outputs": []
    },
    {
      "metadata": {
        "id": "EAlKZ21hmzBD",
        "colab_type": "code",
        "colab": {
          "base_uri": "https://localhost:8080/",
          "height": 52
        },
        "outputId": "d8352ce0-7c24-42ab-d0e3-031d7d20ccfb"
      },
      "cell_type": "code",
      "source": [
        "oh=OneHotEncoder(categorical_features=[0])\n",
        "print(oh)\n",
        "Y_oh=oh.fit_transform(data)"
      ],
      "execution_count": 58,
      "outputs": [
        {
          "output_type": "stream",
          "text": [
            "OneHotEncoder(categorical_features=[0], dtype=<class 'numpy.float64'>,\n",
            "       handle_unknown='error', n_values='auto', sparse=True)\n"
          ],
          "name": "stdout"
        }
      ]
    },
    {
      "metadata": {
        "id": "3pAprt2Tm4sj",
        "colab_type": "code",
        "colab": {
          "base_uri": "https://localhost:8080/",
          "height": 104
        },
        "outputId": "50c7d55a-2abb-4851-8340-0e6f16e1939a"
      },
      "cell_type": "code",
      "source": [
        "Y_oh.todense()"
      ],
      "execution_count": 57,
      "outputs": [
        {
          "output_type": "execute_result",
          "data": {
            "text/plain": [
              "matrix([[ 1.,  0., 10.],\n",
              "        [ 0.,  1., 11.],\n",
              "        [ 0.,  1.,  8.],\n",
              "        [ 1.,  0., 12.],\n",
              "        [ 1.,  0., 15.]])"
            ]
          },
          "metadata": {
            "tags": []
          },
          "execution_count": 57
        }
      ]
    },
    {
      "metadata": {
        "id": "djJ2HCInnAQI",
        "colab_type": "code",
        "colab": {}
      },
      "cell_type": "code",
      "source": [
        "#원서 51\n",
        "from sklearn.preprocessing import Imputer\n",
        "data=np.array([[1, np.nan, 2],[2, 3, np.nan], [-1, 4, 2]])"
      ],
      "execution_count": 0,
      "outputs": []
    },
    {
      "metadata": {
        "id": "z0GY-lzEngLX",
        "colab_type": "code",
        "colab": {
          "base_uri": "https://localhost:8080/",
          "height": 69
        },
        "outputId": "99a7a5fd-06c9-4f09-f6b7-426a4e3118da"
      },
      "cell_type": "code",
      "source": [
        "imp=Imputer(strategy='mean')\n",
        "imp.fit_transform(data)"
      ],
      "execution_count": 60,
      "outputs": [
        {
          "output_type": "execute_result",
          "data": {
            "text/plain": [
              "array([[ 1. ,  3.5,  2. ],\n",
              "       [ 2. ,  3. ,  2. ],\n",
              "       [-1. ,  4. ,  2. ]])"
            ]
          },
          "metadata": {
            "tags": []
          },
          "execution_count": 60
        }
      ]
    },
    {
      "metadata": {
        "id": "Dn4y2PhFnkYg",
        "colab_type": "code",
        "colab": {
          "base_uri": "https://localhost:8080/",
          "height": 69
        },
        "outputId": "6e70d42f-3213-48dd-a2d4-2c89be17f894"
      },
      "cell_type": "code",
      "source": [
        "imp=Imputer(strategy='median')\n",
        "imp.fit_transform(data)"
      ],
      "execution_count": 62,
      "outputs": [
        {
          "output_type": "execute_result",
          "data": {
            "text/plain": [
              "array([[ 1. ,  3.5,  2. ],\n",
              "       [ 2. ,  3. ,  2. ],\n",
              "       [-1. ,  4. ,  2. ]])"
            ]
          },
          "metadata": {
            "tags": []
          },
          "execution_count": 62
        }
      ]
    },
    {
      "metadata": {
        "id": "xYRdbeK7nuVf",
        "colab_type": "code",
        "colab": {
          "base_uri": "https://localhost:8080/",
          "height": 69
        },
        "outputId": "82c9fcb4-a988-4725-f5c4-e80e93a875eb"
      },
      "cell_type": "code",
      "source": [
        "imp=Imputer(strategy='most_frequent')\n",
        "imp.fit_transform(data)"
      ],
      "execution_count": 63,
      "outputs": [
        {
          "output_type": "execute_result",
          "data": {
            "text/plain": [
              "array([[ 1.,  3.,  2.],\n",
              "       [ 2.,  3.,  2.],\n",
              "       [-1.,  4.,  2.]])"
            ]
          },
          "metadata": {
            "tags": []
          },
          "execution_count": 63
        }
      ]
    },
    {
      "metadata": {
        "id": "najt411InzPQ",
        "colab_type": "code",
        "colab": {}
      },
      "cell_type": "code",
      "source": [
        "from sklearn.preprocessing import StandardScaler\n",
        "\n",
        "data = [[0, 0], [3, 0], [1, 1], [2, 1], [5, -5], [10, 0]]\n",
        "ss=StandardScaler()\n",
        "scaled_data=ss.fit_transform(data)"
      ],
      "execution_count": 0,
      "outputs": []
    },
    {
      "metadata": {
        "id": "0JV-wrGFoxfA",
        "colab_type": "code",
        "colab": {
          "base_uri": "https://localhost:8080/",
          "height": 121
        },
        "outputId": "1e7ddd8b-f0ae-4f15-d4af-f6153685747b"
      },
      "cell_type": "code",
      "source": [
        "scaled_data"
      ],
      "execution_count": 75,
      "outputs": [
        {
          "output_type": "execute_result",
          "data": {
            "text/plain": [
              "array([[-1.05930987,  0.24253563],\n",
              "       [-0.15132998,  0.24253563],\n",
              "       [-0.75664991,  0.72760688],\n",
              "       [-0.45398995,  0.72760688],\n",
              "       [ 0.45398995, -2.18282063],\n",
              "       [ 1.96728976,  0.24253563]])"
            ]
          },
          "metadata": {
            "tags": []
          },
          "execution_count": 75
        }
      ]
    },
    {
      "metadata": {
        "id": "23QZWTx0qMEr",
        "colab_type": "code",
        "colab": {}
      },
      "cell_type": "code",
      "source": [
        "#원서 53\n",
        "from sklearn.preprocessing import RobustScaler\n",
        "rb1=RobustScaler(quantile_range=(15, 85))\n",
        "scaled_data1=rb1.fit_transform(data)\n",
        "\n",
        "rb1=RobustScaler(quantile_range=(25, 75))\n",
        "scaled_data1=rb1.fit_transform(data)\n",
        "\n",
        "rb2=RobustScaler(quantile_range=(30, 60))\n",
        "scaled_data2=rb2.fit_transform(data)"
      ],
      "execution_count": 0,
      "outputs": []
    },
    {
      "metadata": {
        "id": "UHNPSG3kqtDi",
        "colab_type": "code",
        "colab": {
          "base_uri": "https://localhost:8080/",
          "height": 35
        },
        "outputId": "4fc3158c-3c6c-4681-8ae5-eeac90fdb497"
      },
      "cell_type": "code",
      "source": [
        "#원서 54 : 정규화 예제\n",
        "from sklearn.preprocessing import Normalizer\n",
        "data=np.array([1.0, 2.0])\n",
        "n_max=Normalizer(norm='max')\n",
        "n_max.fit_transform(data.reshape(1, -1))"
      ],
      "execution_count": 79,
      "outputs": [
        {
          "output_type": "execute_result",
          "data": {
            "text/plain": [
              "array([[0.5, 1. ]])"
            ]
          },
          "metadata": {
            "tags": []
          },
          "execution_count": 79
        }
      ]
    },
    {
      "metadata": {
        "id": "QOauxQvyrTYs",
        "colab_type": "code",
        "colab": {
          "base_uri": "https://localhost:8080/",
          "height": 35
        },
        "outputId": "5d86ce6d-e32f-4d71-dc22-3cc0c160d880"
      },
      "cell_type": "code",
      "source": [
        "n_11=Normalizer(norm='l1')\n",
        "n_11.fit_transform(data.reshape(1, -1))"
      ],
      "execution_count": 80,
      "outputs": [
        {
          "output_type": "execute_result",
          "data": {
            "text/plain": [
              "array([[0.33333333, 0.66666667]])"
            ]
          },
          "metadata": {
            "tags": []
          },
          "execution_count": 80
        }
      ]
    },
    {
      "metadata": {
        "id": "FdggUjDxraoe",
        "colab_type": "code",
        "colab": {
          "base_uri": "https://localhost:8080/",
          "height": 35
        },
        "outputId": "e1d9bbae-d216-4320-8659-8ec20db40d89"
      },
      "cell_type": "code",
      "source": [
        "n_12=Normalizer(norm='l2')\n",
        "n_12.fit_transform(data.reshape(1,-1))"
      ],
      "execution_count": 82,
      "outputs": [
        {
          "output_type": "execute_result",
          "data": {
            "text/plain": [
              "array([[0.4472136 , 0.89442719]])"
            ]
          },
          "metadata": {
            "tags": []
          },
          "execution_count": 82
        }
      ]
    },
    {
      "metadata": {
        "id": "HbsleM8lrhTe",
        "colab_type": "code",
        "colab": {}
      },
      "cell_type": "code",
      "source": [
        ""
      ],
      "execution_count": 0,
      "outputs": []
    }
  ]
}