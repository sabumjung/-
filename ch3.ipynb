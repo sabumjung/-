{
  "nbformat": 4,
  "nbformat_minor": 0,
  "metadata": {
    "colab": {
      "name": "Hello, Colaboratory",
      "version": "0.3.2",
      "provenance": [],
      "collapsed_sections": [],
      "include_colab_link": true
    },
    "kernelspec": {
      "display_name": "Python 3",
      "name": "python3"
    }
  },
  "cells": [
    {
      "cell_type": "markdown",
      "metadata": {
        "id": "view-in-github",
        "colab_type": "text"
      },
      "source": [
        "[View in Colaboratory](https://colab.research.google.com/github/sabumjung/Machine-Learning-Algorithm/blob/master/ch3.ipynb)"
      ]
    },
    {
      "metadata": {
        "id": "l7I_gU2pgheL",
        "colab_type": "code",
        "colab": {
          "base_uri": "https://localhost:8080/",
          "height": 35
        },
        "outputId": "48fceca1-c2f9-4854-f848-2f7c19df594b"
      },
      "cell_type": "code",
      "source": [
        "#원서 45\n",
        "from sklearn.datasets import load_boston\n",
        "boston=load_boston()\n",
        "X=boston.data\n",
        "Y=boston.target\n",
        "print(X.shape, Y.shape)"
      ],
      "execution_count": 68,
      "outputs": [
        {
          "output_type": "stream",
          "text": [
            "(506, 13) (506,)\n"
          ],
          "name": "stdout"
        }
      ]
    },
    {
      "metadata": {
        "id": "aGDTLC3CzQlv",
        "colab_type": "code",
        "colab": {
          "base_uri": "https://localhost:8080/",
          "height": 52
        },
        "outputId": "85b87501-21e1-48cd-996f-cb867193900f"
      },
      "cell_type": "code",
      "source": [
        "#원서 47\n",
        "from sklearn.model_selection import train_test_split\n",
        "\n",
        "X_train, X_test, Y_train, Y_test = train_test_split(X, Y, test_size=0.25, random_state=1000)\n",
        "print(X.shape, X_train.shape, Y_train.shape, X_test.shape, Y_test.shape)\n",
        "print(\"훈련용 데이터 비율 : \", len(X_train)/len(X))"
      ],
      "execution_count": 82,
      "outputs": [
        {
          "output_type": "stream",
          "text": [
            "(506, 13) (379, 13) (379,) (127, 13) (127,)\n",
            "훈련용 데이터 비율 :  0.7490118577075099\n"
          ],
          "name": "stdout"
        }
      ]
    },
    {
      "metadata": {
        "id": "s_JevZ2106aZ",
        "colab_type": "code",
        "colab": {
          "base_uri": "https://localhost:8080/",
          "height": 52
        },
        "outputId": "1fd8ff94-88ed-45d5-ab5c-1b768bed93a3"
      },
      "cell_type": "code",
      "source": [
        "#원서 47\n",
        "from sklearn.utils import check_random_state\n",
        "rs=check_random_state(1000)\n",
        "print(rs)\n",
        "X_train, X_test, Y_train, Y_test = train_test_split(X, Y, test_size=0.25, random_state=rs)\n",
        "print(\"테스트용 데이터 비율 : \", len(X_test)/len(X))"
      ],
      "execution_count": 85,
      "outputs": [
        {
          "output_type": "stream",
          "text": [
            "<mtrand.RandomState object at 0x7fc579be0750>\n",
            "테스트용 데이터 비율 :  0.2509881422924901\n"
          ],
          "name": "stdout"
        }
      ]
    },
    {
      "metadata": {
        "id": "qeeBoc-CDX6s",
        "colab_type": "code",
        "colab": {
          "base_uri": "https://localhost:8080/",
          "height": 35
        },
        "outputId": "c725b4fe-6b4f-463d-ccab-348c0ab7d976"
      },
      "cell_type": "code",
      "source": [
        "#원서 48\n",
        "import numpy as np\n",
        "#\n",
        "X=np.random.uniform(0.0, 1.0, size=(10,2))\n",
        "Y=np.random.choice(('Male', 'Female'), size=(10))\n",
        "print(X[0], Y[0])"
      ],
      "execution_count": 87,
      "outputs": [
        {
          "output_type": "stream",
          "text": [
            "[0.05662897 0.8617276 ] Female\n"
          ],
          "name": "stdout"
        }
      ]
    },
    {
      "metadata": {
        "id": "7tnECyVzEBwf",
        "colab_type": "code",
        "colab": {}
      },
      "cell_type": "code",
      "source": [
        ""
      ],
      "execution_count": 0,
      "outputs": []
    }
  ]
}