{
  "nbformat": 4,
  "nbformat_minor": 0,
  "metadata": {
    "colab": {
      "name": "ch13_05.ipynb",
      "version": "0.3.2",
      "provenance": [],
      "include_colab_link": true
    },
    "kernelspec": {
      "name": "python3",
      "display_name": "Python 3"
    },
    "accelerator": "GPU"
  },
  "cells": [
    {
      "cell_type": "markdown",
      "metadata": {
        "id": "view-in-github",
        "colab_type": "text"
      },
      "source": [
        "<a href=\"https://colab.research.google.com/github/sabumjung/Machine-Learning-Algorithm/blob/master/ch13_05.ipynb\" target=\"_parent\"><img src=\"https://colab.research.google.com/assets/colab-badge.svg\" alt=\"Open In Colab\"/></a>"
      ]
    },
    {
      "metadata": {
        "id": "ql2olOyqcycb",
        "colab_type": "text"
      },
      "cell_type": "markdown",
      "source": [
        "#잠재 디리클레 할당"
      ]
    },
    {
      "metadata": {
        "id": "g8vR0UfxYcCg",
        "colab_type": "code",
        "colab": {}
      },
      "cell_type": "code",
      "source": [
        "import numpy as np\n",
        "\n",
        "from nltk.corpus import brown\n",
        "\n",
        "from sklearn.decomposition import LatentDirichletAllocation\n",
        "from sklearn.feature_extraction.text import CountVectorizer"
      ],
      "execution_count": 0,
      "outputs": []
    },
    {
      "metadata": {
        "id": "xIkxCliOgzAr",
        "colab_type": "code",
        "colab": {}
      },
      "cell_type": "code",
      "source": [
        "# For reproducibility\n",
        "np.random.seed(1000)"
      ],
      "execution_count": 0,
      "outputs": []
    },
    {
      "metadata": {
        "id": "wSdRutAyg1yH",
        "colab_type": "code",
        "colab": {}
      },
      "cell_type": "code",
      "source": [
        "# Compose a corpus\n",
        "sentences_1 = brown.sents(categories=['reviews'])[0:1000]\n",
        "sentences_2 = brown.sents(categories=['government'])[0:1000]\n",
        "sentences_3 = brown.sents(categories=['fiction'])[0:1000]\n",
        "sentences_4 = brown.sents(categories=['news'])[0:1000]\n",
        "corpus = []\n",
        "\n",
        "for s in sentences_1 + sentences_2 + sentences_3 + sentences_4:\n",
        "    corpus.append(' '.join(s))"
      ],
      "execution_count": 0,
      "outputs": []
    },
    {
      "metadata": {
        "id": "-oQ5RPhAg3hn",
        "colab_type": "code",
        "colab": {}
      },
      "cell_type": "code",
      "source": [
        "# Vectorize the corpus\n",
        "cv = CountVectorizer(strip_accents='unicode', stop_words='english', analyzer='word')\n",
        "Xc = cv.fit_transform(corpus)"
      ],
      "execution_count": 0,
      "outputs": []
    },
    {
      "metadata": {
        "id": "9Fylu9xjg40L",
        "colab_type": "code",
        "colab": {
          "base_uri": "https://localhost:8080/",
          "height": 51
        },
        "outputId": "3cfbbd83-4708-4a8e-94d5-38c14c183565"
      },
      "cell_type": "code",
      "source": [
        "# Perform LDA\n",
        "lda = LatentDirichletAllocation(n_topics=8, learning_method='online', max_iter=25)\n",
        "Xl = lda.fit_transform(Xc)"
      ],
      "execution_count": 33,
      "outputs": [
        {
          "output_type": "stream",
          "text": [
            "/usr/local/lib/python3.6/dist-packages/sklearn/decomposition/online_lda.py:314: DeprecationWarning: n_topics has been renamed to n_components in version 0.19 and will be removed in 0.21\n",
            "  DeprecationWarning)\n"
          ],
          "name": "stderr"
        }
      ]
    },
    {
      "metadata": {
        "id": "LI15hST7g6R8",
        "colab_type": "code",
        "colab": {
          "base_uri": "https://localhost:8080/",
          "height": 969
        },
        "outputId": "ec0f449b-0999-4e79-9b64-57d3b1e5ff5b"
      },
      "cell_type": "code",
      "source": [
        "# Show the top 5 words per topic\n",
        "Mwts_lda = np.argsort(lda.components_, axis=1)[::-1]\n",
        "\n",
        "for t in range(8):\n",
        "    print('\\nTopic ' + str(t))\n",
        "    for i in range(5):\n",
        "        print(cv.get_feature_names()[Mwts_lda[t, i]])"
      ],
      "execution_count": 34,
      "outputs": [
        {
          "output_type": "stream",
          "text": [
            "\n",
            "Topic 0\n",
            "code\n",
            "cadenza\n",
            "unlocks\n",
            "ophthalmic\n",
            "quo\n",
            "\n",
            "Topic 1\n",
            "countless\n",
            "harnick\n",
            "leni\n",
            "addle\n",
            "chivalry\n",
            "\n",
            "Topic 2\n",
            "evasive\n",
            "errant\n",
            "tum\n",
            "rum\n",
            "orations\n",
            "\n",
            "Topic 3\n",
            "grigory\n",
            "tum\n",
            "absurdity\n",
            "tarantara\n",
            "suitably\n",
            "\n",
            "Topic 4\n",
            "seventeenth\n",
            "conant\n",
            "chivalrous\n",
            "janitsch\n",
            "knight\n",
            "\n",
            "Topic 5\n",
            "hypocrites\n",
            "errantry\n",
            "adventures\n",
            "knight\n",
            "errant\n",
            "\n",
            "Topic 6\n",
            "counter\n",
            "rogues\n",
            "tum\n",
            "lassus\n",
            "wars\n",
            "\n",
            "Topic 7\n",
            "pitch\n",
            "cards\n",
            "cynicism\n",
            "silences\n",
            "shrewd\n"
          ],
          "name": "stdout"
        }
      ]
    },
    {
      "metadata": {
        "id": "CIAdj6Wgg70r",
        "colab_type": "code",
        "colab": {
          "base_uri": "https://localhost:8080/",
          "height": 85
        },
        "outputId": "cd6f186f-ee8a-4fbb-d751-b8ede7a5b949"
      },
      "cell_type": "code",
      "source": [
        "# Test the model with new document\n",
        "print('Document 0:')\n",
        "print(corpus[0])\n",
        "print(Xl[0])"
      ],
      "execution_count": 36,
      "outputs": [
        {
          "output_type": "stream",
          "text": [
            "Document 0:\n",
            "It is not news that Nathan Milstein is a wizard of the violin .\n",
            "[0.85412134 0.02083335 0.02083335 0.02083335 0.02083335 0.02083677\n",
            " 0.02087515 0.02083335]\n"
          ],
          "name": "stdout"
        }
      ]
    },
    {
      "metadata": {
        "id": "MjKK7VLJg-ia",
        "colab_type": "code",
        "colab": {
          "base_uri": "https://localhost:8080/",
          "height": 85
        },
        "outputId": "905ade32-7c61-410f-c7df-70c29c176604"
      },
      "cell_type": "code",
      "source": [
        "print('Document 2500:')\n",
        "print(corpus[2500])\n",
        "print(Xl[2500])"
      ],
      "execution_count": 37,
      "outputs": [
        {
          "output_type": "stream",
          "text": [
            "Document 2500:\n",
            "The children had nowhere to go and no place to play , not even sidewalks .\n",
            "[0.22499749 0.02500001 0.22500135 0.02500221 0.025      0.02500219\n",
            " 0.02500001 0.42499674]\n"
          ],
          "name": "stdout"
        }
      ]
    },
    {
      "metadata": {
        "id": "UqS52svwhLWh",
        "colab_type": "code",
        "colab": {
          "base_uri": "https://localhost:8080/",
          "height": 51
        },
        "outputId": "5b4f3278-289a-4d8a-c8fc-c210da925dee"
      },
      "cell_type": "code",
      "source": [
        "test_doc = corpus[0] + ' ' + corpus[2500]\n",
        "y_test = lda.transform(cv.transform([test_doc]))\n",
        "print(y_test)"
      ],
      "execution_count": 38,
      "outputs": [
        {
          "output_type": "stream",
          "text": [
            "[[0.61242771 0.01250001 0.11251451 0.0125011  0.01250001 0.01250278\n",
            "  0.01251778 0.21253611]]\n"
          ],
          "name": "stdout"
        }
      ]
    },
    {
      "metadata": {
        "id": "4qCwQCZ5hMP3",
        "colab_type": "code",
        "colab": {}
      },
      "cell_type": "code",
      "source": [
        ""
      ],
      "execution_count": 0,
      "outputs": []
    }
  ]
}