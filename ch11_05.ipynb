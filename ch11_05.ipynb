{
  "nbformat": 4,
  "nbformat_minor": 0,
  "metadata": {
    "colab": {
      "name": "ch11_05.ipynb",
      "version": "0.3.2",
      "provenance": [],
      "include_colab_link": true
    },
    "kernelspec": {
      "name": "python3",
      "display_name": "Python 3"
    }
  },
  "cells": [
    {
      "cell_type": "markdown",
      "metadata": {
        "id": "view-in-github",
        "colab_type": "text"
      },
      "source": [
        "<a href=\"https://colab.research.google.com/github/sabumjung/Machine-Learning-Algorithm/blob/master/ch11_05.ipynb\" target=\"_parent\"><img src=\"https://colab.research.google.com/assets/colab-badge.svg\" alt=\"Open In Colab\"/></a>"
      ]
    },
    {
      "metadata": {
        "id": "f9sFAieERaHY",
        "colab_type": "text"
      },
      "cell_type": "markdown",
      "source": [
        "# Apache Spark MLlib로 최소 자승 교체하기"
      ]
    },
    {
      "metadata": {
        "id": "kl_YXubPRO9J",
        "colab_type": "code",
        "colab": {}
      },
      "cell_type": "code",
      "source": [
        "from pyspark import SparkContext, SparkConf\n",
        "from pyspark.mllib.recommendation import Rating\n",
        "from pyspark.mllib.recommendation import ALS"
      ],
      "execution_count": 0,
      "outputs": []
    },
    {
      "metadata": {
        "id": "ZnmfEj6FVAfh",
        "colab_type": "code",
        "colab": {}
      },
      "cell_type": "code",
      "source": [
        "# For reproducibility\n",
        "np.random.seed(1000)\n",
        "\n",
        "nb_users = 200\n",
        "nb_products = 100\n",
        "ratings = []"
      ],
      "execution_count": 0,
      "outputs": []
    },
    {
      "metadata": {
        "id": "DuRiWwzbVE3P",
        "colab_type": "code",
        "colab": {}
      },
      "cell_type": "code",
      "source": [
        "conf = SparkConf().setAppName('ALS').setMaster('local[*]')\n",
        "sc = SparkContext(conf=conf)\n",
        "\n",
        "for _ in range(10):\n",
        "    for i in range(nb_users):\n",
        "        rating = Rating(user=i, product=np.random.randint(1, nb_products), rating=np.random.randint(0, 5))\n",
        "        ratings.append(rating)\n",
        "\n",
        "# Parallelize the ratings\n",
        "ratings = sc.parallelize(ratings)\n",
        "\n",
        "# Train the model\n",
        "model = ALS.train(ratings, rank=5, iterations=10)\n",
        "\n",
        "# Test the model\n",
        "test = ratings.map(lambda rating: (rating.user, rating.product))\n",
        "\n",
        "predictions = model.predictAll(test)\n",
        "full_predictions = predictions.map(lambda pred: ((pred.user, pred.product), pred.rating))\n",
        "\n",
        "# Compute MSE\n",
        "split_ratings = ratings.map(lambda rating: ((rating.user, rating.product), rating.rating))\n",
        "joined_predictions = split_ratings.join(full_predictions)\n",
        "mse = joined_predictions.map(lambda x: (x[1][0] - x[1][1]) ** 2).mean()\n",
        "\n",
        "print('MSE: %.3f' % mse)\n",
        "\n",
        "# Perform a single prediction\n",
        "prediction = model.predict(10, 20)\n",
        "print('Prediction: %.3f' % prediction)"
      ],
      "execution_count": 0,
      "outputs": []
    }
  ]
}