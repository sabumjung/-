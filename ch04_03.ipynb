{
  "nbformat": 4,
  "nbformat_minor": 0,
  "metadata": {
    "colab": {
      "name": "ch04_03.ipynb",
      "version": "0.3.2",
      "provenance": [],
      "include_colab_link": true
    },
    "kernelspec": {
      "name": "python3",
      "display_name": "Python 3"
    },
    "accelerator": "TPU"
  },
  "cells": [
    {
      "cell_type": "markdown",
      "metadata": {
        "id": "view-in-github",
        "colab_type": "text"
      },
      "source": [
        "<a href=\"https://colab.research.google.com/github/sabumjung/Machine-Learning-Algorithm/blob/master/ch04_03.ipynb\" target=\"_parent\"><img src=\"https://colab.research.google.com/assets/colab-badge.svg\" alt=\"Open In Colab\"/></a>"
      ]
    },
    {
      "metadata": {
        "id": "th8EviDqJAKl",
        "colab_type": "text"
      },
      "cell_type": "markdown",
      "source": [
        "# 릿지, 라소 및 엘라스틱 넷"
      ]
    },
    {
      "metadata": {
        "id": "6XQ-NWhqIzEK",
        "colab_type": "code",
        "colab": {}
      },
      "cell_type": "code",
      "source": [
        "import numpy as np\n",
        "\n",
        "from sklearn.datasets import load_diabetes\n",
        "from sklearn.linear_model import LinearRegression, Ridge, Lasso, ElasticNet, RidgeCV, LassoCV, ElasticNetCV\n",
        "from sklearn.model_selection import cross_val_score\n",
        "\n",
        "\n",
        "# For reproducibility\n",
        "np.random.seed(1000)"
      ],
      "execution_count": 0,
      "outputs": []
    },
    {
      "metadata": {
        "id": "A23lzw-6JQCP",
        "colab_type": "code",
        "colab": {}
      },
      "cell_type": "code",
      "source": [
        "diabetes = load_diabetes()"
      ],
      "execution_count": 0,
      "outputs": []
    },
    {
      "metadata": {
        "id": "fCtVqc9cJTGD",
        "colab_type": "code",
        "colab": {
          "base_uri": "https://localhost:8080/",
          "height": 35
        },
        "outputId": "bce9ac80-63c3-4614-fb98-b630b93fae1e"
      },
      "cell_type": "code",
      "source": [
        "# Create a linear regressor and compute CV score\n",
        "lr = LinearRegression(normalize=True)\n",
        "lr_scores = cross_val_score(lr, diabetes.data, diabetes.target, cv=10)\n",
        "print('Linear regression CV score: %.6f' % lr_scores.mean())"
      ],
      "execution_count": 22,
      "outputs": [
        {
          "output_type": "stream",
          "text": [
            "Linear regression CV score: 0.461962\n"
          ],
          "name": "stdout"
        }
      ]
    },
    {
      "metadata": {
        "id": "cXq9lysUJjMz",
        "colab_type": "code",
        "colab": {
          "base_uri": "https://localhost:8080/",
          "height": 35
        },
        "outputId": "2d598167-971b-4af8-a901-c04db3bc46b0"
      },
      "cell_type": "code",
      "source": [
        "# Create a Ridge regressor and compute CV score\n",
        "rg = Ridge(0.001, normalize=True)\n",
        "rg_scores = cross_val_score(rg, diabetes.data, diabetes.target, cv=10)\n",
        "print('Ridge regression CV score: %.6f' % rg_scores.mean())"
      ],
      "execution_count": 23,
      "outputs": [
        {
          "output_type": "stream",
          "text": [
            "Ridge regression CV score: 0.462272\n"
          ],
          "name": "stdout"
        }
      ]
    },
    {
      "metadata": {
        "id": "0yaVbPFBNtb_",
        "colab_type": "code",
        "colab": {
          "base_uri": "https://localhost:8080/",
          "height": 35
        },
        "outputId": "cfc716f0-601a-472e-a973-fa3f623b6c33"
      },
      "cell_type": "code",
      "source": [
        "# Find the optimal alpha value for Ridge regression\n",
        "rgcv = RidgeCV(alphas=(1.0, 0.1, 0.01, 0.005, 0.0025, 0.001, 0.00025), normalize=True)\n",
        "rgcv.fit(diabetes.data, diabetes.target)\n",
        "print('Ridge optimal alpha: %.3f' % rgcv.alpha_)"
      ],
      "execution_count": 24,
      "outputs": [
        {
          "output_type": "stream",
          "text": [
            "Ridge optimal alpha: 0.005\n"
          ],
          "name": "stdout"
        }
      ]
    },
    {
      "metadata": {
        "id": "ZG4OUHxgLDQO",
        "colab_type": "code",
        "colab": {
          "base_uri": "https://localhost:8080/",
          "height": 35
        },
        "outputId": "f7d9e44f-78cb-429f-c66b-abd75c52db39"
      },
      "cell_type": "code",
      "source": [
        "# Create a Lasso regressor and compute CV score\n",
        "ls = Lasso(0.001, normalize=True)\n",
        "ls_scores = cross_val_score(ls, diabetes.data, diabetes.target, cv=10)\n",
        "print('Lasso regression CV score: %.6f' % ls_scores.mean())"
      ],
      "execution_count": 26,
      "outputs": [
        {
          "output_type": "stream",
          "text": [
            "Lasso regression CV score: 0.462157\n"
          ],
          "name": "stdout"
        }
      ]
    },
    {
      "metadata": {
        "id": "fuckEGChO_1Q",
        "colab_type": "code",
        "colab": {
          "base_uri": "https://localhost:8080/",
          "height": 69
        },
        "outputId": "b873ed53-f98a-4089-fabf-3ce38cdb45b6"
      },
      "cell_type": "code",
      "source": [
        "from scipy import sparse\n",
        "ls = Lasso(alpha=0.001, normalize=True)\n",
        "ls.fit(sparse.coo_matrix(diabetes.data), diabetes.target)"
      ],
      "execution_count": 31,
      "outputs": [
        {
          "output_type": "execute_result",
          "data": {
            "text/plain": [
              "Lasso(alpha=0.001, copy_X=True, fit_intercept=True, max_iter=1000,\n",
              "   normalize=True, positive=False, precompute=False, random_state=None,\n",
              "   selection='cyclic', tol=0.0001, warm_start=False)"
            ]
          },
          "metadata": {
            "tags": []
          },
          "execution_count": 31
        }
      ]
    },
    {
      "metadata": {
        "id": "6JXvCwejODRR",
        "colab_type": "code",
        "colab": {
          "base_uri": "https://localhost:8080/",
          "height": 35
        },
        "outputId": "ef7612d6-49f8-4ecd-a018-afa1333d5ee4"
      },
      "cell_type": "code",
      "source": [
        "# Create ElasticNet regressor and compute CV score\n",
        "en = ElasticNet(alpha=0.001, l1_ratio=0.8, normalize=True)\n",
        "en_scores = cross_val_score(en, diabetes.data, diabetes.target, cv=10)\n",
        "print('ElasticNet regression CV score: %.6f' % en_scores.mean())"
      ],
      "execution_count": 27,
      "outputs": [
        {
          "output_type": "stream",
          "text": [
            "ElasticNet regression CV score: 0.463589\n"
          ],
          "name": "stdout"
        }
      ]
    },
    {
      "metadata": {
        "id": "bvkPHx_MOkKo",
        "colab_type": "code",
        "colab": {
          "base_uri": "https://localhost:8080/",
          "height": 89
        },
        "outputId": "26f46741-7c5b-4349-b966-3b16cf72ea96"
      },
      "cell_type": "code",
      "source": [
        "# Find the optimal alpha and l1_ratio for Elastic Net\n",
        "encv = ElasticNetCV(alphas=(0.1, 0.01, 0.005, 0.0025, 0.001), l1_ratio=(0.1, 0.25, 0.5, 0.75, 0.8), normalize=True)\n",
        "encv.fit(diabetes.data, diabetes.target)\n",
        "print('ElasticNet optimal alpha: %.3f and L1 ratio: %.4f' % (encv.alpha_, encv.l1_ratio_))"
      ],
      "execution_count": 29,
      "outputs": [
        {
          "output_type": "stream",
          "text": [
            "ElasticNet optimal alpha: 0.001 and L1 ratio: 0.7500\n"
          ],
          "name": "stdout"
        },
        {
          "output_type": "stream",
          "text": [
            "/usr/local/lib/python3.6/dist-packages/sklearn/model_selection/_split.py:2053: FutureWarning: You should specify a value for 'cv' instead of relying on the default value. The default value will change from 3 to 5 in version 0.22.\n",
            "  warnings.warn(CV_WARNING, FutureWarning)\n"
          ],
          "name": "stderr"
        }
      ]
    },
    {
      "metadata": {
        "id": "UD7sIDCeOkiI",
        "colab_type": "code",
        "colab": {}
      },
      "cell_type": "code",
      "source": [
        ""
      ],
      "execution_count": 0,
      "outputs": []
    }
  ]
}