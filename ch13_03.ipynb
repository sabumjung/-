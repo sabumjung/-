{
  "nbformat": 4,
  "nbformat_minor": 0,
  "metadata": {
    "colab": {
      "name": "ch13_03.ipynb",
      "version": "0.3.2",
      "provenance": [],
      "include_colab_link": true
    },
    "kernelspec": {
      "name": "python3",
      "display_name": "Python 3"
    },
    "accelerator": "GPU"
  },
  "cells": [
    {
      "cell_type": "markdown",
      "metadata": {
        "id": "view-in-github",
        "colab_type": "text"
      },
      "source": [
        "<a href=\"https://colab.research.google.com/github/sabumjung/Machine-Learning-Algorithm/blob/master/ch13_03.ipynb\" target=\"_parent\"><img src=\"https://colab.research.google.com/assets/colab-badge.svg\" alt=\"Open In Colab\"/></a>"
      ]
    },
    {
      "metadata": {
        "id": "ql2olOyqcycb",
        "colab_type": "text"
      },
      "cell_type": "markdown",
      "source": [
        "#잠재 의미 분석"
      ]
    },
    {
      "metadata": {
        "id": "g8vR0UfxYcCg",
        "colab_type": "code",
        "colab": {}
      },
      "cell_type": "code",
      "source": [
        "import numpy as np\n",
        "\n",
        "from nltk.corpus import brown\n",
        "\n",
        "from sklearn.decomposition import TruncatedSVD\n",
        "from sklearn.feature_extraction.text import TfidfVectorizer"
      ],
      "execution_count": 0,
      "outputs": []
    },
    {
      "metadata": {
        "id": "dqHcUpC6dOdi",
        "colab_type": "code",
        "colab": {
          "base_uri": "https://localhost:8080/",
          "height": 66
        },
        "outputId": "e965b1bf-1adf-4e4a-aac3-5873e9ddd762"
      },
      "cell_type": "code",
      "source": [
        " import nltk\n",
        " nltk.download('brown')"
      ],
      "execution_count": 3,
      "outputs": [
        {
          "output_type": "stream",
          "text": [
            "[nltk_data] Downloading package brown to /root/nltk_data...\n",
            "[nltk_data]   Package brown is already up-to-date!\n"
          ],
          "name": "stdout"
        },
        {
          "output_type": "execute_result",
          "data": {
            "text/plain": [
              "True"
            ]
          },
          "metadata": {
            "tags": []
          },
          "execution_count": 3
        }
      ]
    },
    {
      "metadata": {
        "id": "w9Qhb5Plc27Q",
        "colab_type": "code",
        "colab": {}
      },
      "cell_type": "code",
      "source": [
        "# For reproducibility\n",
        "np.random.seed(1000)"
      ],
      "execution_count": 0,
      "outputs": []
    },
    {
      "metadata": {
        "id": "is8BIlu7c4g7",
        "colab_type": "code",
        "colab": {}
      },
      "cell_type": "code",
      "source": [
        "# Compose a corpus\n",
        "sentences = sentences = brown.sents(categories=['news', 'fiction'])\n",
        "corpus = []\n",
        "\n",
        "for s in sentences:\n",
        "    corpus.append(' '.join(s))"
      ],
      "execution_count": 0,
      "outputs": []
    },
    {
      "metadata": {
        "id": "o5VMH12Zc6UH",
        "colab_type": "code",
        "colab": {}
      },
      "cell_type": "code",
      "source": [
        "# Vectorize the corpus\n",
        "vectorizer = TfidfVectorizer(strip_accents='unicode', stop_words='english', sublinear_tf=True, use_idf=True)\n",
        "Xc = vectorizer.fit_transform(corpus)\n",
        "\n",
        "rank = 2"
      ],
      "execution_count": 0,
      "outputs": []
    },
    {
      "metadata": {
        "id": "Nk6Mt_6adCdQ",
        "colab_type": "code",
        "colab": {}
      },
      "cell_type": "code",
      "source": [
        "# Performed a truncated SVD\n",
        "tsvd = TruncatedSVD(n_components=rank)\n",
        "Xt = tsvd.fit_transform(Xc)"
      ],
      "execution_count": 0,
      "outputs": []
    },
    {
      "metadata": {
        "id": "i9Fllq6fdXgv",
        "colab_type": "code",
        "colab": {
          "base_uri": "https://localhost:8080/",
          "height": 416
        },
        "outputId": "e0de62f2-835f-4d4e-b999-55790be6fab7"
      },
      "cell_type": "code",
      "source": [
        "# Check the top-10 word per topic\n",
        "Mwts = np.argsort(tsvd.components_, axis=1)[::-1]\n",
        "\n",
        "for t in range(rank):\n",
        "    print('\\nTopic ' + str(t))\n",
        "    for i in range(10):\n",
        "        print(vectorizer.get_feature_names()[Mwts[t, i]])"
      ],
      "execution_count": 11,
      "outputs": [
        {
          "output_type": "stream",
          "text": [
            "\n",
            "Topic 0\n",
            "said\n",
            "rector\n",
            "hans\n",
            "aloud\n",
            "liston\n",
            "nonsense\n",
            "leave\n",
            "whiskey\n",
            "chicken\n",
            "fat\n",
            "\n",
            "Topic 1\n",
            "bong\n",
            "varnessa\n",
            "schoolboy\n",
            "kaboom\n",
            "keeeerist\n",
            "aggravated\n",
            "jealous\n",
            "hides\n",
            "mayonnaise\n",
            "fowl\n"
          ],
          "name": "stdout"
        }
      ]
    },
    {
      "metadata": {
        "id": "ngK_kx0bfmbo",
        "colab_type": "code",
        "colab": {}
      },
      "cell_type": "code",
      "source": [
        ""
      ],
      "execution_count": 0,
      "outputs": []
    }
  ]
}