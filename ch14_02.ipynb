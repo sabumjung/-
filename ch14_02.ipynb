{
  "nbformat": 4,
  "nbformat_minor": 0,
  "metadata": {
    "colab": {
      "name": "ch14_02.ipynb",
      "version": "0.3.2",
      "provenance": [],
      "include_colab_link": true
    },
    "kernelspec": {
      "name": "python3",
      "display_name": "Python 3"
    },
    "accelerator": "GPU"
  },
  "cells": [
    {
      "cell_type": "markdown",
      "metadata": {
        "id": "view-in-github",
        "colab_type": "text"
      },
      "source": [
        "<a href=\"https://colab.research.google.com/github/sabumjung/Machine-Learning-Algorithm/blob/master/ch14_02.ipynb\" target=\"_parent\"><img src=\"https://colab.research.google.com/assets/colab-badge.svg\" alt=\"Open In Colab\"/></a>"
      ]
    },
    {
      "metadata": {
        "id": "ql2olOyqcycb",
        "colab_type": "text"
      },
      "cell_type": "markdown",
      "source": [
        "#로지스틱 회귀"
      ]
    },
    {
      "metadata": {
        "id": "g8vR0UfxYcCg",
        "colab_type": "code",
        "colab": {}
      },
      "cell_type": "code",
      "source": [
        "import numpy as np\n",
        "import matplotlib.pyplot as plt\n",
        "import tensorflow as tf\n",
        "\n",
        "from sklearn.datasets import make_classification"
      ],
      "execution_count": 0,
      "outputs": []
    },
    {
      "metadata": {
        "id": "0R0rrW3aj4JJ",
        "colab_type": "code",
        "colab": {}
      },
      "cell_type": "code",
      "source": [
        "# For reproducibility\n",
        "np.random.seed(1000)\n",
        "\n",
        "nb_samples = 500"
      ],
      "execution_count": 0,
      "outputs": []
    },
    {
      "metadata": {
        "id": "uhPeYU5ukfba",
        "colab_type": "code",
        "colab": {}
      },
      "cell_type": "code",
      "source": [
        "# Create the dataset\n",
        "X, Y = make_classification(n_samples=nb_samples, n_features=2, n_redundant=0, n_classes=2)"
      ],
      "execution_count": 0,
      "outputs": []
    },
    {
      "metadata": {
        "id": "RMEY5rMYk9nf",
        "colab_type": "code",
        "colab": {
          "base_uri": "https://localhost:8080/",
          "height": 446
        },
        "outputId": "f688ee19-1b1a-488d-bce4-2eecedfff6e4"
      },
      "cell_type": "code",
      "source": [
        "# Plot the dataset\n",
        "fig, ax = plt.subplots(figsize=(9, 7))\n",
        "ax.set_xlabel(r'$X_0$')\n",
        "ax.set_ylabel(r'$X_1$')\n",
        "\n",
        "for i, x in enumerate(X):\n",
        "    if Y[i] == 0:\n",
        "        ax.scatter(x[0], x[1], marker='d', color='blue')\n",
        "    else:\n",
        "        ax.scatter(x[0], x[1], marker='s', color='red')\n",
        "\n",
        "plt.show()"
      ],
      "execution_count": 72,
      "outputs": [
        {
          "output_type": "display_data",
          "data": {
            "image/png": "[encoded data removed]",
            "text/plain": [
              "<Figure size 648x504 with 1 Axes>"
            ]
          },
          "metadata": {
            "tags": []
          }
        }
      ]
    },
    {
      "metadata": {
        "id": "ruStpyyhk_XS",
        "colab_type": "code",
        "colab": {
          "base_uri": "https://localhost:8080/",
          "height": 1771
        },
        "outputId": "4edcd47c-09ad-477c-8570-2a4d45bec14f"
      },
      "cell_type": "code",
      "source": [
        "# Create the graph\n",
        "graph = tf.Graph()\n",
        "\n",
        "with graph.as_default():\n",
        "    Xt = tf.placeholder(tf.float32, shape=(None, 2), name='points')\n",
        "    Yt = tf.placeholder(tf.float32, shape=(None, 1), name='classes')\n",
        "\n",
        "    W = tf.Variable(tf.zeros((2, 1)), name='weights')\n",
        "    bias = tf.Variable(tf.zeros((1, 1)), name='bias')\n",
        "\n",
        "    Ye = tf.matmul(Xt, W) + bias\n",
        "    Yc = tf.round(tf.sigmoid(Ye))\n",
        "\n",
        "    loss = tf.reduce_mean(tf.nn.sigmoid_cross_entropy_with_logits(logits=Ye, labels=Yt))\n",
        "    training_step = tf.train.GradientDescentOptimizer(0.025).minimize(loss)\n",
        "\n",
        "session = tf.InteractiveSession(graph=graph)\n",
        "tf.global_variables_initializer().run()\n",
        "\n",
        "feed_dict = {\n",
        "    Xt: X,\n",
        "    Yt: Y.reshape((nb_samples, 1))\n",
        "}\n",
        "for i in range(10000):\n",
        "    loss_value, _ = session.run([loss, training_step], feed_dict=feed_dict)\n",
        "    if i % 100 == 0:\n",
        "        print('Step %d, Loss: %.3f' % (i, loss_value))"
      ],
      "execution_count": 74,
      "outputs": [
        {
          "output_type": "stream",
          "text": [
            "/usr/local/lib/python3.6/dist-packages/tensorflow/python/client/session.py:1702: UserWarning: An interactive session is already active. This can cause out-of-memory errors in some cases. You must explicitly call `InteractiveSession.close()` to release resources held by the other session(s).\n",
            "  warnings.warn('An interactive session is already active. This can '\n"
          ],
          "name": "stderr"
        },
        {
          "output_type": "stream",
          "text": [
            "Step 0, Loss: 0.693\n",
            "Step 100, Loss: 0.418\n",
            "Step 200, Loss: 0.352\n",
            "Step 300, Loss: 0.322\n",
            "Step 400, Loss: 0.304\n",
            "Step 500, Loss: 0.293\n",
            "Step 600, Loss: 0.285\n",
            "Step 700, Loss: 0.279\n",
            "Step 800, Loss: 0.275\n",
            "Step 900, Loss: 0.272\n",
            "Step 1000, Loss: 0.269\n",
            "Step 1100, Loss: 0.267\n",
            "Step 1200, Loss: 0.265\n",
            "Step 1300, Loss: 0.264\n",
            "Step 1400, Loss: 0.263\n",
            "Step 1500, Loss: 0.262\n",
            "Step 1600, Loss: 0.261\n",
            "Step 1700, Loss: 0.260\n",
            "Step 1800, Loss: 0.260\n",
            "Step 1900, Loss: 0.259\n",
            "Step 2000, Loss: 0.259\n",
            "Step 2100, Loss: 0.258\n",
            "Step 2200, Loss: 0.258\n",
            "Step 2300, Loss: 0.258\n",
            "Step 2400, Loss: 0.258\n",
            "Step 2500, Loss: 0.257\n",
            "Step 2600, Loss: 0.257\n",
            "Step 2700, Loss: 0.257\n",
            "Step 2800, Loss: 0.257\n",
            "Step 2900, Loss: 0.257\n",
            "Step 3000, Loss: 0.257\n",
            "Step 3100, Loss: 0.256\n",
            "Step 3200, Loss: 0.256\n",
            "Step 3300, Loss: 0.256\n",
            "Step 3400, Loss: 0.256\n",
            "Step 3500, Loss: 0.256\n",
            "Step 3600, Loss: 0.256\n",
            "Step 3700, Loss: 0.256\n",
            "Step 3800, Loss: 0.256\n",
            "Step 3900, Loss: 0.256\n",
            "Step 4000, Loss: 0.256\n",
            "Step 4100, Loss: 0.256\n",
            "Step 4200, Loss: 0.256\n",
            "Step 4300, Loss: 0.256\n",
            "Step 4400, Loss: 0.256\n",
            "Step 4500, Loss: 0.256\n",
            "Step 4600, Loss: 0.256\n",
            "Step 4700, Loss: 0.256\n",
            "Step 4800, Loss: 0.256\n",
            "Step 4900, Loss: 0.256\n",
            "Step 5000, Loss: 0.256\n",
            "Step 5100, Loss: 0.256\n",
            "Step 5200, Loss: 0.256\n",
            "Step 5300, Loss: 0.256\n",
            "Step 5400, Loss: 0.256\n",
            "Step 5500, Loss: 0.256\n",
            "Step 5600, Loss: 0.256\n",
            "Step 5700, Loss: 0.256\n",
            "Step 5800, Loss: 0.256\n",
            "Step 5900, Loss: 0.256\n",
            "Step 6000, Loss: 0.256\n",
            "Step 6100, Loss: 0.256\n",
            "Step 6200, Loss: 0.256\n",
            "Step 6300, Loss: 0.256\n",
            "Step 6400, Loss: 0.256\n",
            "Step 6500, Loss: 0.256\n",
            "Step 6600, Loss: 0.256\n",
            "Step 6700, Loss: 0.256\n",
            "Step 6800, Loss: 0.256\n",
            "Step 6900, Loss: 0.256\n",
            "Step 7000, Loss: 0.256\n",
            "Step 7100, Loss: 0.256\n",
            "Step 7200, Loss: 0.256\n",
            "Step 7300, Loss: 0.256\n",
            "Step 7400, Loss: 0.256\n",
            "Step 7500, Loss: 0.256\n",
            "Step 7600, Loss: 0.256\n",
            "Step 7700, Loss: 0.256\n",
            "Step 7800, Loss: 0.256\n",
            "Step 7900, Loss: 0.256\n",
            "Step 8000, Loss: 0.256\n",
            "Step 8100, Loss: 0.256\n",
            "Step 8200, Loss: 0.256\n",
            "Step 8300, Loss: 0.256\n",
            "Step 8400, Loss: 0.256\n",
            "Step 8500, Loss: 0.256\n",
            "Step 8600, Loss: 0.256\n",
            "Step 8700, Loss: 0.256\n",
            "Step 8800, Loss: 0.256\n",
            "Step 8900, Loss: 0.256\n",
            "Step 9000, Loss: 0.256\n",
            "Step 9100, Loss: 0.256\n",
            "Step 9200, Loss: 0.256\n",
            "Step 9300, Loss: 0.256\n",
            "Step 9400, Loss: 0.256\n",
            "Step 9500, Loss: 0.256\n",
            "Step 9600, Loss: 0.256\n",
            "Step 9700, Loss: 0.256\n",
            "Step 9800, Loss: 0.256\n",
            "Step 9900, Loss: 0.256\n"
          ],
          "name": "stdout"
        }
      ]
    },
    {
      "metadata": {
        "id": "CIW6sX3zlB0z",
        "colab_type": "code",
        "colab": {
          "base_uri": "https://localhost:8080/",
          "height": 102
        },
        "outputId": "8a5b0937-ccef-4e7f-8f63-383c137bbe8a"
      },
      "cell_type": "code",
      "source": [
        "# Retrieve coefficients and intercept\n",
        "Wc, Wb = W.eval(), bias.eval()\n",
        "\n",
        "print('Coefficients:')\n",
        "print(Wc)\n",
        "\n",
        "print('Intercept:')\n",
        "print(Wb)"
      ],
      "execution_count": 75,
      "outputs": [
        {
          "output_type": "stream",
          "text": [
            "Coefficients:\n",
            "[[-1.190798]\n",
            " [ 3.152102]]\n",
            "Intercept:\n",
            "[[-0.13232733]]\n"
          ],
          "name": "stdout"
        }
      ]
    },
    {
      "metadata": {
        "id": "ugo0iI8ulHp9",
        "colab_type": "code",
        "colab": {}
      },
      "cell_type": "code",
      "source": [
        "# Plot the dataset with the separating hyperplane\n",
        "h = .02\n",
        "x_min, x_max = X[:, 0].min() - .5, X[:, 0].max() + .5\n",
        "y_min, y_max = X[:, 1].min() - .5, X[:, 1].max() + .5\n",
        "xx, yy = np.meshgrid(np.arange(x_min, x_max, h), np.arange(y_min, y_max, h))\n",
        "\n",
        "Z = np.array(session.run([Yc], feed_dict={Xt: np.c_[xx.ravel(), yy.ravel()]}))"
      ],
      "execution_count": 0,
      "outputs": []
    },
    {
      "metadata": {
        "id": "pv0wRfhUlJAQ",
        "colab_type": "code",
        "colab": {
          "base_uri": "https://localhost:8080/",
          "height": 720
        },
        "outputId": "3069222a-cefb-41da-fcca-f6d5b85ccc0d"
      },
      "cell_type": "code",
      "source": [
        "# Put the result into a color plot\n",
        "Z = Z.reshape(xx.shape)\n",
        "plt.figure(1, figsize=(12, 12))\n",
        "plt.pcolormesh(xx, yy, Z, cmap=plt.cm.Pastel1)"
      ],
      "execution_count": 77,
      "outputs": [
        {
          "output_type": "execute_result",
          "data": {
            "text/plain": [
              "<matplotlib.collections.QuadMesh at 0x7fc08668fa20>"
            ]
          },
          "metadata": {
            "tags": []
          },
          "execution_count": 77
        },
        {
          "output_type": "display_data",
          "data": {
            "image/png": "[encoded data removed]",
            "text/plain": [
              "<Figure size 864x864 with 1 Axes>"
            ]
          },
          "metadata": {
            "tags": []
          }
        }
      ]
    },
    {
      "metadata": {
        "id": "EdPK59Z2lKQz",
        "colab_type": "code",
        "colab": {
          "base_uri": "https://localhost:8080/",
          "height": 348
        },
        "outputId": "d284c556-e547-4e44-a535-0ab0f3322386"
      },
      "cell_type": "code",
      "source": [
        "# Plot also the training points\n",
        "for i, x in enumerate(X):\n",
        "    if Y[i] == 0:\n",
        "        plt.scatter(x[0], x[1], marker='d', color='blue')\n",
        "    else:\n",
        "        plt.scatter(x[0], x[1], marker='s', color='red')\n",
        "\n",
        "plt.xlabel(r'$X_0$')\n",
        "plt.ylabel(r'$X_1$')\n",
        "\n",
        "plt.xlim(xx.min(), xx.max())\n",
        "plt.ylim(yy.min(), yy.max())\n",
        "plt.xticks(())\n",
        "plt.yticks(())\n",
        "\n",
        "plt.show()"
      ],
      "execution_count": 78,
      "outputs": [
        {
          "output_type": "display_data",
          "data": {
            "image/png": "[encoded data removed]",
            "text/plain": [
              "<Figure size 576x396 with 1 Axes>"
            ]
          },
          "metadata": {
            "tags": []
          }
        }
      ]
    },
    {
      "metadata": {
        "id": "F-3UPnBDlKp8",
        "colab_type": "code",
        "colab": {}
      },
      "cell_type": "code",
      "source": [
        ""
      ],
      "execution_count": 0,
      "outputs": []
    }
  ]
}