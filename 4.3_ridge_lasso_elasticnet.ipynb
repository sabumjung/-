{
  "nbformat": 4,
  "nbformat_minor": 0,
  "metadata": {
    "colab": {
      "name": "Hello, Colaboratory",
      "version": "0.3.2",
      "provenance": [],
      "collapsed_sections": [],
      "include_colab_link": true
    },
    "kernelspec": {
      "display_name": "Python 3",
      "name": "python3"
    }
  },
  "cells": [
    {
      "cell_type": "markdown",
      "metadata": {
        "id": "view-in-github",
        "colab_type": "text"
      },
      "source": [
        "[View in Colaboratory](https://colab.research.google.com/github/sabumjung/Machine-Learning-Algorithm/blob/master/4.3_ridge_lasso_elasticnet.ipynb)"
      ]
    },
    {
      "metadata": {
        "id": "9IQfIEGwUisW",
        "colab_type": "code",
        "colab": {
          "base_uri": "https://localhost:8080/",
          "height": 143
        },
        "outputId": "8e85f77b-8bb8-440b-a599-9269c996668a"
      },
      "cell_type": "code",
      "source": [
        "from __future__ import print_function\n",
        "\n",
        "import numpy as np\n",
        "\n",
        "from sklearn.datasets import load_diabetes\n",
        "from sklearn.linear_model import LinearRegression, Ridge, Lasso, ElasticNet, RidgeCV, LassoCV, ElasticNetCV\n",
        "from sklearn.model_selection import cross_val_score\n",
        "\n",
        "\n",
        "# 재현성을 위한 시드 설정\n",
        "np.random.seed(1000)\n",
        "\n",
        "\n",
        "if __name__ == '__main__':\n",
        "    diabetes = load_diabetes()\n",
        "\n",
        "    # 선형회귀 생성 및 CV점수 계산\n",
        "    lr = LinearRegression(normalize=True)\n",
        "    lr_scores = cross_val_score(lr, diabetes.data, diabetes.target, cv=10)\n",
        "    print('Linear regression CV score: %.6f' % lr_scores.mean())\n",
        "\n",
        "    # 리지 분석, CV점수 계산\n",
        "    rg = Ridge(0.005, normalize=True)\n",
        "    rg_scores = cross_val_score(rg, diabetes.data, diabetes.target, cv=10)\n",
        "    print('Ridge regression CV score: %.6f' % rg_scores.mean())\n",
        "\n",
        "    # 라소 분석, CV점수 계산\n",
        "    ls = Lasso(0.01, normalize=True)\n",
        "    ls_scores = cross_val_score(ls, diabetes.data, diabetes.target, cv=10)\n",
        "    print('Lasso regression CV score: %.6f' % ls_scores.mean())\n",
        "\n",
        "    # 일래스틱넷 분석, CV점수 계산\n",
        "    en = ElasticNet(alpha=0.001, l1_ratio=0.8, normalize=True)\n",
        "    en_scores = cross_val_score(en, diabetes.data, diabetes.target, cv=10)\n",
        "    print('ElasticNet regression CV score: %.6f' % en_scores.mean())\n",
        "\n",
        "    # 리지에 적합한 최적 알파값 찾기\n",
        "    rgcv = RidgeCV(alphas=(1.0, 0.1, 0.01, 0.001, 0.005, 0.0025, 0.001, 0.00025), normalize=True)\n",
        "    rgcv.fit(diabetes.data, diabetes.target)\n",
        "    print('Ridge optimal alpha: %.3f' % rgcv.alpha_)\n",
        "\n",
        "    # 라소에 적합한 최적 알파값 찾기\n",
        "    lscv = LassoCV(alphas=(1.0, 0.1, 0.01, 0.001, 0.005, 0.0025, 0.001, 0.00025), normalize=True)\n",
        "    lscv.fit(diabetes.data, diabetes.target)\n",
        "    print('Lasso optimal alpha: %.3f' % lscv.alpha_)\n",
        "\n",
        "    # 일래스틱넷에 적합한 최적 알파값 찾기\n",
        "    encv = ElasticNetCV(alphas=(0.1, 0.01, 0.005, 0.0025, 0.001), l1_ratio=(0.1, 0.25, 0.5, 0.75, 0.8), normalize=True)\n",
        "    encv.fit(diabetes.data, diabetes.target)\n",
        "    print('ElasticNet optimal alpha: %.3f and L1 ratio: %.4f' % (encv.alpha_, encv.l1_ratio_))"
      ],
      "execution_count": 1,
      "outputs": [
        {
          "output_type": "stream",
          "text": [
            "Linear regression CV score: 0.461962\n",
            "Ridge regression CV score: 0.462758\n",
            "Lasso regression CV score: 0.461741\n",
            "ElasticNet regression CV score: 0.463589\n",
            "Ridge optimal alpha: 0.005\n",
            "Lasso optimal alpha: 0.010\n",
            "ElasticNet optimal alpha: 0.001 and L1 ratio: 0.7500\n"
          ],
          "name": "stdout"
        }
      ]
    }
  ]
}