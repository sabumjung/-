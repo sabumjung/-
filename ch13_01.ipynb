{
  "nbformat": 4,
  "nbformat_minor": 0,
  "metadata": {
    "colab": {
      "name": "ch13_01.ipynb",
      "version": "0.3.2",
      "provenance": [],
      "include_colab_link": true
    },
    "kernelspec": {
      "name": "python3",
      "display_name": "Python 3"
    },
    "accelerator": "GPU"
  },
  "cells": [
    {
      "cell_type": "markdown",
      "metadata": {
        "id": "view-in-github",
        "colab_type": "text"
      },
      "source": [
        "<a href=\"https://colab.research.google.com/github/sabumjung/Machine-Learning-Algorithm/blob/master/ch13_01.ipynb\" target=\"_parent\"><img src=\"https://colab.research.google.com/assets/colab-badge.svg\" alt=\"Open In Colab\"/></a>"
      ]
    },
    {
      "metadata": {
        "id": "ql2olOyqcycb",
        "colab_type": "text"
      },
      "cell_type": "markdown",
      "source": [
        "#잠재 의미 분석"
      ]
    },
    {
      "metadata": {
        "id": "g8vR0UfxYcCg",
        "colab_type": "code",
        "colab": {}
      },
      "cell_type": "code",
      "source": [
        "import numpy as np\n",
        "import matplotlib.pyplot as plt\n",
        "\n",
        "from nltk.corpus import brown\n",
        "\n",
        "from scipy.linalg import svd\n",
        "\n",
        "from sklearn.feature_extraction.text import TfidfVectorizer"
      ],
      "execution_count": 0,
      "outputs": []
    },
    {
      "metadata": {
        "id": "dqHcUpC6dOdi",
        "colab_type": "code",
        "colab": {
          "base_uri": "https://localhost:8080/",
          "height": 66
        },
        "outputId": "74d9aac5-f1c7-461f-85ba-c6300fdc81cb"
      },
      "cell_type": "code",
      "source": [
        " import nltk\n",
        " nltk.download('brown')"
      ],
      "execution_count": 10,
      "outputs": [
        {
          "output_type": "stream",
          "text": [
            "[nltk_data] Downloading package brown to /root/nltk_data...\n",
            "[nltk_data]   Unzipping corpora/brown.zip.\n"
          ],
          "name": "stdout"
        },
        {
          "output_type": "execute_result",
          "data": {
            "text/plain": [
              "True"
            ]
          },
          "metadata": {
            "tags": []
          },
          "execution_count": 10
        }
      ]
    },
    {
      "metadata": {
        "id": "w9Qhb5Plc27Q",
        "colab_type": "code",
        "colab": {}
      },
      "cell_type": "code",
      "source": [
        "# For reproducibility\n",
        "np.random.seed(1000)"
      ],
      "execution_count": 0,
      "outputs": []
    },
    {
      "metadata": {
        "id": "is8BIlu7c4g7",
        "colab_type": "code",
        "colab": {}
      },
      "cell_type": "code",
      "source": [
        "def scatter_documents(X):\n",
        "    fig, ax = plt.subplots(1, 1, figsize=(10, 6))\n",
        "\n",
        "    ax.scatter(X[:, 0], X[:, 1])\n",
        "    ax.set_xlabel('t0')\n",
        "    ax.set_ylabel('t1')\n",
        "    ax.grid()\n",
        "    plt.show()"
      ],
      "execution_count": 0,
      "outputs": []
    },
    {
      "metadata": {
        "id": "o5VMH12Zc6UH",
        "colab_type": "code",
        "colab": {}
      },
      "cell_type": "code",
      "source": [
        "# Compose a corpus\n",
        "sentences = brown.sents(categories=['news'])[0:500]\n",
        "corpus = []\n",
        "\n",
        "for s in sentences:\n",
        "    corpus.append(' '.join(s))"
      ],
      "execution_count": 0,
      "outputs": []
    },
    {
      "metadata": {
        "id": "Nk6Mt_6adCdQ",
        "colab_type": "code",
        "colab": {}
      },
      "cell_type": "code",
      "source": [
        "# Vectorize the corpus\n",
        "vectorizer = TfidfVectorizer(strip_accents='unicode', stop_words='english', sublinear_tf=True, use_idf=True)\n",
        "Xc = vectorizer.fit_transform(corpus).todense()"
      ],
      "execution_count": 0,
      "outputs": []
    },
    {
      "metadata": {
        "id": "i9Fllq6fdXgv",
        "colab_type": "code",
        "colab": {}
      },
      "cell_type": "code",
      "source": [
        "# Perform SVD\n",
        "U, s, V = svd(Xc, full_matrices=False)"
      ],
      "execution_count": 0,
      "outputs": []
    },
    {
      "metadata": {
        "id": "jvbWaaQWdawE",
        "colab_type": "code",
        "colab": {}
      },
      "cell_type": "code",
      "source": [
        "# Extract a sub-space with rank=2\n",
        "rank = 2\n",
        "\n",
        "Uk = U[:, 0:rank]\n",
        "sk = np.diag(s)[0:rank, 0:rank]\n",
        "Vk = V[0:rank, :]"
      ],
      "execution_count": 0,
      "outputs": []
    },
    {
      "metadata": {
        "id": "fDOmTicjdfVH",
        "colab_type": "code",
        "colab": {
          "base_uri": "https://localhost:8080/",
          "height": 416
        },
        "outputId": "12276c36-4316-4600-d1af-a62710eaac23"
      },
      "cell_type": "code",
      "source": [
        "# Check the top-10 word per topic\n",
        "Mwts = np.argsort(np.abs(Vk), axis=1)[::-1]\n",
        "\n",
        "for t in range(rank):\n",
        "    print('\\nTopic ' + str(t))\n",
        "    for i in range(10):\n",
        "        print(vectorizer.get_feature_names()[Mwts[t, i]])"
      ],
      "execution_count": 15,
      "outputs": [
        {
          "output_type": "stream",
          "text": [
            "\n",
            "Topic 0\n",
            "plainfield\n",
            "wasn\n",
            "basketball\n",
            "captain\n",
            "team\n",
            "football\n",
            "letterman\n",
            "james\n",
            "signal\n",
            "patrolman\n",
            "\n",
            "Topic 1\n",
            "plainfield\n",
            "wasn\n",
            "released\n",
            "copy\n",
            "allies\n",
            "clash\n",
            "absence\n",
            "circumstances\n",
            "nightmare\n",
            "troubles\n"
          ],
          "name": "stdout"
        }
      ]
    },
    {
      "metadata": {
        "id": "xvXYqcJ6dlUd",
        "colab_type": "code",
        "colab": {
          "base_uri": "https://localhost:8080/",
          "height": 487
        },
        "outputId": "caaef4c0-bb1c-415a-f2c1-dca35cc742c7"
      },
      "cell_type": "code",
      "source": [
        "# Compute the structure of a document\n",
        "print('\\nSample document:')\n",
        "print(corpus[0])\n",
        "\n",
        "Mdtk = Uk.dot(sk)\n",
        "print('\\nSample document in the topic sub-space:')\n",
        "print('d0 = %.2f*t1 + %.2f*t2' % (Mdtk[0][0], Mdtk[0][1]))\n",
        "\n",
        "# Show a scatter plot of all documents\n",
        "scatter_documents(Mdtk)"
      ],
      "execution_count": 16,
      "outputs": [
        {
          "output_type": "stream",
          "text": [
            "\n",
            "Sample document:\n",
            "The Fulton County Grand Jury said Friday an investigation of Atlanta's recent primary election produced `` no evidence '' that any irregularities took place .\n",
            "\n",
            "Sample document in the topic sub-space:\n",
            "d0 = 0.15*t1 + -0.12*t2\n"
          ],
          "name": "stdout"
        },
        {
          "output_type": "display_data",
          "data": {
            "image/png": "[encoded data removed]",
            "text/plain": [
              "<Figure size 720x432 with 1 Axes>"
            ]
          },
          "metadata": {
            "tags": []
          }
        }
      ]
    },
    {
      "metadata": {
        "id": "t4G4kZ4Pdt70",
        "colab_type": "code",
        "colab": {}
      },
      "cell_type": "code",
      "source": [
        ""
      ],
      "execution_count": 0,
      "outputs": []
    }
  ]
}