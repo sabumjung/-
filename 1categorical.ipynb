{
  "nbformat": 4,
  "nbformat_minor": 0,
  "metadata": {
    "colab": {
      "name": "Untitled15.ipynb",
      "version": "0.3.2",
      "provenance": [],
      "include_colab_link": true
    },
    "kernelspec": {
      "name": "python2",
      "display_name": "Python 2"
    }
  },
  "cells": [
    {
      "cell_type": "markdown",
      "metadata": {
        "id": "view-in-github",
        "colab_type": "text"
      },
      "source": [
        "[View in Colaboratory](https://colab.research.google.com/github/sabumjung/Machine-Learning-Algorithm/blob/master/1categorical.ipynb)"
      ]
    },
    {
      "metadata": {
        "id": "48eAUjTeCaqa",
        "colab_type": "code",
        "colab": {
          "base_uri": "https://localhost:8080/",
          "height": 593
        },
        "outputId": "060adf07-1701-44e9-a50e-155cea96b340"
      },
      "cell_type": "code",
      "source": [
        "from __future__ import print_function\n",
        "\n",
        "import numpy as np\n",
        "\n",
        "from sklearn.preprocessing import LabelEncoder, LabelBinarizer, OneHotEncoder\n",
        "from sklearn.feature_extraction import DictVectorizer, FeatureHasher\n",
        "\n",
        "\n",
        "# 랜덤넘버 시드값 설정(재현성 목적)\n",
        "np.random.seed(1000)\n",
        "\n",
        "if __name__ == '__main__':\n",
        "    Y = np.random.choice(('Male', 'Female'), size=(10))\n",
        "\n",
        "    # 레이블 인코드(Encode the labels)\n",
        "    print('Label encoding')\n",
        "    le = LabelEncoder()\n",
        "    yt = le.fit_transform(Y)\n",
        "    print(yt)\n",
        "\n",
        "    # 더미출력 디코드(Decode a dummy output)\n",
        "    print('Label decoding')\n",
        "    output = [1, 0, 1, 1, 0, 0]\n",
        "    decoded_output = [le.classes_[i] for i in output]\n",
        "    print(decoded_output)\n",
        "\n",
        "    # 레이블 이진화(Binarize the labels)\n",
        "    print('Label binarization')\n",
        "    lb = LabelBinarizer()\n",
        "    yb = lb.fit_transform(Y)\n",
        "    print(yb)\n",
        "\n",
        "    # 이진화 레이블 디코드(Decode the binarized labels)\n",
        "    print('Label decoding')\n",
        "    lb.inverse_transform(yb)\n",
        "\n",
        "    # 딕셔너리 데이터 정의(Define some dictionary data)\n",
        "    data = [\n",
        "        {'feature_1': 10, 'feature_2': 15},\n",
        "        {'feature_1': -5, 'feature_3': 22},\n",
        "        {'feature_3': -2, 'feature_4': 10}\n",
        "    ]\n",
        "\n",
        "    # 딕셔너리 데이터 벡터화(Vectorize the dictionary data)\n",
        "    print('Dictionary data vectorization')\n",
        "    dv = DictVectorizer()\n",
        "    Y_dict = dv.fit_transform(data)\n",
        "    print(Y_dict.todense())\n",
        "\n",
        "    print('Vocabulary:')\n",
        "    print(dv.vocabulary_)\n",
        "\n",
        "    # 피처해싱(Feature hashing)\n",
        "    print('Feature hashing')\n",
        "    fh = FeatureHasher()\n",
        "    Y_hashed = fh.fit_transform(data)\n",
        "\n",
        "    # 피처디코드(Decode the features)\n",
        "    print('Feature decoding')\n",
        "    print(Y_hashed.todense())\n",
        "\n",
        "    # 원-핫 인코딩(One-hot encoding)\n",
        "    data1 = [\n",
        "        [0, 10],\n",
        "        [1, 11],\n",
        "        [1, 8],\n",
        "        [0, 12],\n",
        "        [0, 15]\n",
        "    ]\n",
        "\n",
        "    # 데이터 인코드(Encode data)\n",
        "    oh = OneHotEncoder(categorical_features=[0])\n",
        "    Y_oh = oh.fit_transform(data1)\n",
        "    print(Y_oh.todense())"
      ],
      "execution_count": 1,
      "outputs": [
        {
          "output_type": "stream",
          "text": [
            "Label encoding\n",
            "[0 0 0 1 0 1 1 0 0 1]\n",
            "Label decoding\n",
            "['Male', 'Female', 'Male', 'Male', 'Female', 'Female']\n",
            "Label binarization\n",
            "[[0]\n",
            " [0]\n",
            " [0]\n",
            " [1]\n",
            " [0]\n",
            " [1]\n",
            " [1]\n",
            " [0]\n",
            " [0]\n",
            " [1]]\n",
            "Label decoding\n",
            "Dictionary data vectorization\n",
            "[[10. 15.  0.  0.]\n",
            " [-5.  0. 22.  0.]\n",
            " [ 0.  0. -2. 10.]]\n",
            "Vocabulary:\n",
            "{'feature_2': 1, 'feature_3': 2, 'feature_1': 0, 'feature_4': 3}\n",
            "Feature hashing\n",
            "Feature decoding\n",
            "[[0. 0. 0. ... 0. 0. 0.]\n",
            " [0. 0. 0. ... 0. 0. 0.]\n",
            " [0. 0. 0. ... 0. 0. 0.]]\n",
            "[[ 1.  0. 10.]\n",
            " [ 0.  1. 11.]\n",
            " [ 0.  1.  8.]\n",
            " [ 1.  0. 12.]\n",
            " [ 1.  0. 15.]]\n"
          ],
          "name": "stdout"
        }
      ]
    }
  ]
}