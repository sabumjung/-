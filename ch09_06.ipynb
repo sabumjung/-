{
  "nbformat": 4,
  "nbformat_minor": 0,
  "metadata": {
    "colab": {
      "name": "ch09_06.ipynb",
      "version": "0.3.2",
      "provenance": [],
      "include_colab_link": true
    },
    "kernelspec": {
      "name": "python3",
      "display_name": "Python 3"
    }
  },
  "cells": [
    {
      "cell_type": "markdown",
      "metadata": {
        "id": "view-in-github",
        "colab_type": "text"
      },
      "source": [
        "<a href=\"https://colab.research.google.com/github/sabumjung/Machine-Learning-Algorithm/blob/master/ch09_06.ipynb\" target=\"_parent\"><img src=\"https://colab.research.google.com/assets/colab-badge.svg\" alt=\"Open In Colab\"/></a>"
      ]
    },
    {
      "metadata": {
        "id": "X8AMDmWVzIBo",
        "colab_type": "text"
      },
      "cell_type": "markdown",
      "source": [
        "#실측 자료에 근거한 평가 방법"
      ]
    },
    {
      "metadata": {
        "id": "r81mA5Il4Ghc",
        "colab_type": "code",
        "colab": {
          "base_uri": "https://localhost:8080/",
          "height": 34
        },
        "outputId": "a3c020ea-7e05-4173-cae5-ee3ce06776f8"
      },
      "cell_type": "code",
      "source": [
        "from sklearn.metrics import homogeneity_score\n",
        "km = KMeans(n_clusters=4)\n",
        "Yp = km.fit_predict(X)\n",
        "print(homogeneity_score(Y, Yp))"
      ],
      "execution_count": 54,
      "outputs": [
        {
          "output_type": "stream",
          "text": [
            "0.4957755671772303\n"
          ],
          "name": "stdout"
        }
      ]
    },
    {
      "metadata": {
        "id": "vPPL6Kp24XTe",
        "colab_type": "code",
        "colab": {
          "base_uri": "https://localhost:8080/",
          "height": 34
        },
        "outputId": "10df8477-213d-475b-f962-eb5bdcb07b06"
      },
      "cell_type": "code",
      "source": [
        "from sklearn.metrics import completeness_score\n",
        "km = KMeans(n_clusters=4)\n",
        "Yp = km.fit_predict(X)\n",
        "print(completeness_score(Y, Yp))"
      ],
      "execution_count": 55,
      "outputs": [
        {
          "output_type": "stream",
          "text": [
            "0.7541598291447973\n"
          ],
          "name": "stdout"
        }
      ]
    },
    {
      "metadata": {
        "id": "RDGB8Q6n4grO",
        "colab_type": "code",
        "colab": {
          "base_uri": "https://localhost:8080/",
          "height": 34
        },
        "outputId": "fbe1b18d-9d44-43a1-8e1a-9c49333910fb"
      },
      "cell_type": "code",
      "source": [
        "from sklearn.metrics import adjusted_rand_score\n",
        "km = KMeans(n_clusters=4)\n",
        "Yp = km.fit_predict(X)\n",
        "print(adjusted_rand_score(Y, Yp))"
      ],
      "execution_count": 56,
      "outputs": [
        {
          "output_type": "stream",
          "text": [
            "0.3875225449216946\n"
          ],
          "name": "stdout"
        }
      ]
    },
    {
      "metadata": {
        "id": "-5kcq1hN4lYf",
        "colab_type": "code",
        "colab": {}
      },
      "cell_type": "code",
      "source": [
        ""
      ],
      "execution_count": 0,
      "outputs": []
    }
  ]
}