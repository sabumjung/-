{
  "nbformat": 4,
  "nbformat_minor": 0,
  "metadata": {
    "colab": {
      "name": "ch03_01.ipynb",
      "version": "0.3.2",
      "provenance": [],
      "collapsed_sections": [],
      "include_colab_link": true
    },
    "kernelspec": {
      "name": "python3",
      "display_name": "Python 3"
    }
  },
  "cells": [
    {
      "cell_type": "markdown",
      "metadata": {
        "id": "view-in-github",
        "colab_type": "text"
      },
      "source": [
        "<a href=\"https://colab.research.google.com/github/sabumjung/Machine-Learning-Algorithm/blob/master/ch03_01.ipynb\" target=\"_parent\"><img src=\"https://colab.research.google.com/assets/colab-badge.svg\" alt=\"Open In Colab\"/></a>"
      ]
    },
    {
      "metadata": {
        "id": "6FJM8fsKtq1h",
        "colab_type": "text"
      },
      "cell_type": "markdown",
      "source": [
        "# scikit-learn 토이 데이터셋"
      ]
    },
    {
      "metadata": {
        "id": "MGEb84lYr9Mn",
        "colab_type": "code",
        "colab": {}
      },
      "cell_type": "code",
      "source": [
        "from sklearn.datasets import load_boston"
      ],
      "execution_count": 0,
      "outputs": []
    },
    {
      "metadata": {
        "id": "yybs5EG5r98S",
        "colab_type": "code",
        "colab": {}
      },
      "cell_type": "code",
      "source": [
        "boston = load_boston()\n",
        "X = boston.data\n",
        "Y = boston.target"
      ],
      "execution_count": 0,
      "outputs": []
    },
    {
      "metadata": {
        "id": "nszq7PVBsM-s",
        "colab_type": "code",
        "outputId": "afb88728-7abe-48eb-db8f-9f8a239c11b4",
        "colab": {
          "base_uri": "https://localhost:8080/",
          "height": 35
        }
      },
      "cell_type": "code",
      "source": [
        "print(X.shape)"
      ],
      "execution_count": 0,
      "outputs": [
        {
          "output_type": "stream",
          "text": [
            "(10, 2)\n"
          ],
          "name": "stdout"
        }
      ]
    },
    {
      "metadata": {
        "id": "j0XCSat6sVLb",
        "colab_type": "code",
        "outputId": "fbeeadc3-76b4-4186-ba31-8f84b987229e",
        "colab": {
          "base_uri": "https://localhost:8080/",
          "height": 35
        }
      },
      "cell_type": "code",
      "source": [
        "print(Y.shape)"
      ],
      "execution_count": 0,
      "outputs": [
        {
          "output_type": "stream",
          "text": [
            "(10, 1)\n"
          ],
          "name": "stdout"
        }
      ]
    },
    {
      "metadata": {
        "id": "BU1BEhbkttsY",
        "colab_type": "text"
      },
      "cell_type": "markdown",
      "source": [
        "# 훈련 및 테스트 집합 만들기 "
      ]
    },
    {
      "metadata": {
        "id": "OXLZsIlQs-kK",
        "colab_type": "code",
        "colab": {}
      },
      "cell_type": "code",
      "source": [
        "from sklearn.model_selection import train_test_split\n",
        "X_train, X_test, Y_train, Y_test = train_test_split(X, Y, test_size=0.25, random_state=1000)"
      ],
      "execution_count": 0,
      "outputs": []
    },
    {
      "metadata": {
        "id": "sUoY1-qxtTD1",
        "colab_type": "code",
        "outputId": "239df33d-e066-4cd2-d305-f85fc4926888",
        "colab": {
          "base_uri": "https://localhost:8080/",
          "height": 35
        }
      },
      "cell_type": "code",
      "source": [
        "print(X_train.shape, X_test.shape)"
      ],
      "execution_count": 0,
      "outputs": [
        {
          "output_type": "stream",
          "text": [
            "(379, 13) (127, 13)\n"
          ],
          "name": "stdout"
        }
      ]
    },
    {
      "metadata": {
        "id": "skYhASGftX8r",
        "colab_type": "code",
        "outputId": "ca5041ef-046f-437f-a5b1-438224ca94d0",
        "colab": {
          "base_uri": "https://localhost:8080/",
          "height": 35
        }
      },
      "cell_type": "code",
      "source": [
        "print(Y_train.shape, Y_test.shape)"
      ],
      "execution_count": 0,
      "outputs": [
        {
          "output_type": "stream",
          "text": [
            "(379,) (127,)\n"
          ],
          "name": "stdout"
        }
      ]
    },
    {
      "metadata": {
        "id": "G-8Qezbitc0F",
        "colab_type": "code",
        "colab": {}
      },
      "cell_type": "code",
      "source": [
        "from sklearn.utils import check_random_state\n",
        "rs = check_random_state(1000)"
      ],
      "execution_count": 0,
      "outputs": []
    },
    {
      "metadata": {
        "id": "1ERp60QlwGcs",
        "colab_type": "code",
        "colab": {}
      },
      "cell_type": "code",
      "source": [
        "X_train, X_test, Y_train, Y_test = train_test_split(X, Y, test_size=0.25, random_state=rs)"
      ],
      "execution_count": 0,
      "outputs": []
    },
    {
      "metadata": {
        "id": "D-R7lllowG-n",
        "colab_type": "code",
        "outputId": "97d027a6-d75a-4501-bfe1-5cd2ccf6b665",
        "colab": {
          "base_uri": "https://localhost:8080/",
          "height": 35
        }
      },
      "cell_type": "code",
      "source": [
        "print(X_train.shape, X_test.shape)"
      ],
      "execution_count": 0,
      "outputs": [
        {
          "output_type": "stream",
          "text": [
            "(379, 13) (127, 13)\n"
          ],
          "name": "stdout"
        }
      ]
    },
    {
      "metadata": {
        "id": "9ow2pNdVwKA6",
        "colab_type": "code",
        "outputId": "65fa73d4-6d28-4ccf-9cd7-307eed907e8f",
        "colab": {
          "base_uri": "https://localhost:8080/",
          "height": 35
        }
      },
      "cell_type": "code",
      "source": [
        "print(Y_train.shape, Y_test.shape)"
      ],
      "execution_count": 0,
      "outputs": [
        {
          "output_type": "stream",
          "text": [
            "(379,) (127,)\n"
          ],
          "name": "stdout"
        }
      ]
    },
    {
      "metadata": {
        "id": "KX-oQLIBwTXi",
        "colab_type": "text"
      },
      "cell_type": "markdown",
      "source": [
        "# 범주형 데이터 관리"
      ]
    },
    {
      "metadata": {
        "id": "dacZyIvYwMJD",
        "colab_type": "code",
        "outputId": "28bc8405-62bd-4aee-ea65-a53ab2cc2e56",
        "colab": {
          "base_uri": "https://localhost:8080/",
          "height": 35
        }
      },
      "cell_type": "code",
      "source": [
        "import numpy as np\n",
        "X = np.random.uniform(0.0, 1.0, size=(10, 2))\n",
        "Y = np.random.choice(('Male','Female'), size=(10))\n",
        "print(X[0], Y[0])"
      ],
      "execution_count": 0,
      "outputs": [
        {
          "output_type": "stream",
          "text": [
            "[0.5783514  0.89983477] Female\n"
          ],
          "name": "stdout"
        }
      ]
    },
    {
      "metadata": {
        "id": "nazWmzQMwaoX",
        "colab_type": "code",
        "outputId": "ab3ddade-5dc0-45e3-e244-f28c08b3258a",
        "colab": {
          "base_uri": "https://localhost:8080/",
          "height": 35
        }
      },
      "cell_type": "code",
      "source": [
        "from sklearn.preprocessing import LabelEncoder\n",
        "le = LabelEncoder()\n",
        "yt = le.fit_transform(Y)\n",
        "print(yt)"
      ],
      "execution_count": 0,
      "outputs": [
        {
          "output_type": "stream",
          "text": [
            "[0 0 1 1 0 0 0 1 1 0]\n"
          ],
          "name": "stdout"
        }
      ]
    },
    {
      "metadata": {
        "id": "tk4Y6i9Dwg9L",
        "colab_type": "code",
        "outputId": "52c6a971-2275-4583-8a72-bcdbe6235361",
        "colab": {
          "base_uri": "https://localhost:8080/",
          "height": 35
        }
      },
      "cell_type": "code",
      "source": [
        "print(le.classes_)"
      ],
      "execution_count": 0,
      "outputs": [
        {
          "output_type": "stream",
          "text": [
            "['Female' 'Male']\n"
          ],
          "name": "stdout"
        }
      ]
    },
    {
      "metadata": {
        "id": "tZMBzfTMwiSZ",
        "colab_type": "code",
        "outputId": "37f4e36f-2cf5-4fb0-d250-c106e464ee73",
        "colab": {
          "base_uri": "https://localhost:8080/",
          "height": 35
        }
      },
      "cell_type": "code",
      "source": [
        "output = [1, 0, 1, 1, 0, 0]\n",
        "decoded_output = [le.classes_[i] for i in output]\n",
        "print(decoded_output)"
      ],
      "execution_count": 0,
      "outputs": [
        {
          "output_type": "stream",
          "text": [
            "['Male', 'Female', 'Male', 'Male', 'Female', 'Female']\n"
          ],
          "name": "stdout"
        }
      ]
    },
    {
      "metadata": {
        "id": "PU_ycTQFxZxv",
        "colab_type": "code",
        "outputId": "2a3d81a1-e84c-4835-cadb-5ad19c940fc2",
        "colab": {
          "base_uri": "https://localhost:8080/",
          "height": 190
        }
      },
      "cell_type": "code",
      "source": [
        "from sklearn.preprocessing import LabelBinarizer\n",
        "lb = LabelBinarizer()\n",
        "Yb = lb.fit_transform(Y)\n",
        "print(Yb)"
      ],
      "execution_count": 0,
      "outputs": [
        {
          "output_type": "stream",
          "text": [
            "[[0]\n",
            " [0]\n",
            " [0]\n",
            " [0]\n",
            " [1]\n",
            " [1]\n",
            " [1]\n",
            " [1]\n",
            " [1]\n",
            " [1]]\n"
          ],
          "name": "stdout"
        }
      ]
    },
    {
      "metadata": {
        "id": "RxIr1QVnxqmJ",
        "colab_type": "code",
        "outputId": "50d76576-9a34-4599-ee98-97ece5d47b80",
        "colab": {
          "base_uri": "https://localhost:8080/",
          "height": 52
        }
      },
      "cell_type": "code",
      "source": [
        "lb.inverse_transform(Yb)"
      ],
      "execution_count": 0,
      "outputs": [
        {
          "output_type": "execute_result",
          "data": {
            "text/plain": [
              "array(['Female', 'Female', 'Female', 'Female', 'Male', 'Male', 'Male',\n",
              "       'Male', 'Male', 'Male'], dtype='<U6')"
            ]
          },
          "metadata": {
            "tags": []
          },
          "execution_count": 48
        }
      ]
    },
    {
      "metadata": {
        "id": "oXh4jes_x3VJ",
        "colab_type": "code",
        "colab": {}
      },
      "cell_type": "code",
      "source": [
        "data = [\n",
        "  { 'feature_1': 10.0, 'feature_2': 15.0 },\n",
        "  { 'feature_1': -5.0, 'feature_3': 22.0 },\n",
        "  { 'feature_3': -2.0, 'feature_4': 10.0 }\n",
        "]"
      ],
      "execution_count": 0,
      "outputs": []
    },
    {
      "metadata": {
        "id": "rY6Ma1q-yqCH",
        "colab_type": "code",
        "colab": {}
      },
      "cell_type": "code",
      "source": [
        "from sklearn.feature_extraction import DictVectorizer, FeatureHasher\n",
        "dv = DictVectorizer()"
      ],
      "execution_count": 0,
      "outputs": []
    },
    {
      "metadata": {
        "id": "gmYg4p9m0kfl",
        "colab_type": "code",
        "outputId": "2e98c3e7-9c0c-4126-dd5f-ba00aa6da5f5",
        "colab": {
          "base_uri": "https://localhost:8080/",
          "height": 69
        }
      },
      "cell_type": "code",
      "source": [
        "Y_dict = dv.fit_transform(data)\n",
        "Y_dict.todense()"
      ],
      "execution_count": 0,
      "outputs": [
        {
          "output_type": "execute_result",
          "data": {
            "text/plain": [
              "matrix([[10., 15.,  0.,  0.],\n",
              "        [-5.,  0., 22.,  0.],\n",
              "        [ 0.,  0., -2., 10.]])"
            ]
          },
          "metadata": {
            "tags": []
          },
          "execution_count": 45
        }
      ]
    },
    {
      "metadata": {
        "id": "kQE1-GXV0ze1",
        "colab_type": "code",
        "outputId": "f64f1518-f689-4b0d-a61b-6b17c4325f41",
        "colab": {
          "base_uri": "https://localhost:8080/",
          "height": 35
        }
      },
      "cell_type": "code",
      "source": [
        "dv.vocabulary_"
      ],
      "execution_count": 0,
      "outputs": [
        {
          "output_type": "execute_result",
          "data": {
            "text/plain": [
              "{'feature_1': 0, 'feature_2': 1, 'feature_3': 2, 'feature_4': 3}"
            ]
          },
          "metadata": {
            "tags": []
          },
          "execution_count": 49
        }
      ]
    },
    {
      "metadata": {
        "id": "bv0Bf1Vk1ICN",
        "colab_type": "code",
        "outputId": "11ba3163-111e-4494-e109-e0d83749bea1",
        "colab": {
          "base_uri": "https://localhost:8080/",
          "height": 69
        }
      },
      "cell_type": "code",
      "source": [
        "fh = FeatureHasher()\n",
        "Y_hashed = fh.fit_transform(data)\n",
        "Y_hashed.todense()"
      ],
      "execution_count": 0,
      "outputs": [
        {
          "output_type": "execute_result",
          "data": {
            "text/plain": [
              "matrix([[0., 0., 0., ..., 0., 0., 0.],\n",
              "        [0., 0., 0., ..., 0., 0., 0.],\n",
              "        [0., 0., 0., ..., 0., 0., 0.]])"
            ]
          },
          "metadata": {
            "tags": []
          },
          "execution_count": 52
        }
      ]
    },
    {
      "metadata": {
        "id": "-FyoSPtT1KJe",
        "colab_type": "code",
        "colab": {}
      },
      "cell_type": "code",
      "source": [
        "from sklearn.preprocessing import OneHotEncoder\n",
        "data = [\n",
        "  [0, 10],\n",
        "  [1, 11],\n",
        "  [1, 8],\n",
        "  [0, 12],\n",
        "  [0, 15]\n",
        "  ]"
      ],
      "execution_count": 0,
      "outputs": []
    },
    {
      "metadata": {
        "id": "DgZQOL5D1Ujg",
        "colab_type": "code",
        "outputId": "f5a79f96-f272-4a12-8e61-052323746252",
        "colab": {
          "base_uri": "https://localhost:8080/",
          "height": 227
        }
      },
      "cell_type": "code",
      "source": [
        "oh = OneHotEncoder(categorical_features=[0])\n",
        "Y_oh = oh.fit_transform(data)\n",
        "Y_oh.todense()"
      ],
      "execution_count": 0,
      "outputs": [
        {
          "output_type": "stream",
          "text": [
            "/usr/local/lib/python3.6/dist-packages/sklearn/preprocessing/_encoders.py:368: FutureWarning: The handling of integer data will change in version 0.22. Currently, the categories are determined based on the range [0, max(values)], while in the future they will be determined based on the unique values.\n",
            "If you want the future behaviour and silence this warning, you can specify \"categories='auto'\".\n",
            "In case you used a LabelEncoder before this OneHotEncoder to convert the categories to integers, then you can now use the OneHotEncoder directly.\n",
            "  warnings.warn(msg, FutureWarning)\n",
            "/usr/local/lib/python3.6/dist-packages/sklearn/preprocessing/_encoders.py:390: DeprecationWarning: The 'categorical_features' keyword is deprecated in version 0.20 and will be removed in 0.22. You can use the ColumnTransformer instead.\n",
            "  \"use the ColumnTransformer instead.\", DeprecationWarning)\n"
          ],
          "name": "stderr"
        },
        {
          "output_type": "execute_result",
          "data": {
            "text/plain": [
              "matrix([[ 1.,  0., 10.],\n",
              "        [ 0.,  1., 11.],\n",
              "        [ 0.,  1.,  8.],\n",
              "        [ 1.,  0., 12.],\n",
              "        [ 1.,  0., 15.]])"
            ]
          },
          "metadata": {
            "tags": []
          },
          "execution_count": 58
        }
      ]
    },
    {
      "metadata": {
        "id": "ffIY4hgZ2WFC",
        "colab_type": "text"
      },
      "cell_type": "markdown",
      "source": [
        "# 누락된 특징 관리"
      ]
    },
    {
      "metadata": {
        "id": "pTQZFz471bet",
        "colab_type": "code",
        "colab": {}
      },
      "cell_type": "code",
      "source": [
        "from sklearn.preprocessing import Imputer\n",
        "data = np.array([[1, np.nan, 2], [2, 3, np.nan], [-1, 4, 2]])"
      ],
      "execution_count": 0,
      "outputs": []
    },
    {
      "metadata": {
        "id": "m8C-K3uj3lHQ",
        "colab_type": "code",
        "outputId": "628a1a02-9ca1-4d46-9084-ee5bdae2248d",
        "colab": {
          "base_uri": "https://localhost:8080/",
          "height": 124
        }
      },
      "cell_type": "code",
      "source": [
        "imp = Imputer(strategy='mean')\n",
        "imp.fit_transform(data)"
      ],
      "execution_count": 0,
      "outputs": [
        {
          "output_type": "stream",
          "text": [
            "/usr/local/lib/python3.6/dist-packages/sklearn/utils/deprecation.py:58: DeprecationWarning: Class Imputer is deprecated; Imputer was deprecated in version 0.20 and will be removed in 0.22. Import impute.SimpleImputer from sklearn instead.\n",
            "  warnings.warn(msg, category=DeprecationWarning)\n"
          ],
          "name": "stderr"
        },
        {
          "output_type": "execute_result",
          "data": {
            "text/plain": [
              "array([[ 1. ,  3.5,  2. ],\n",
              "       [ 2. ,  3. ,  2. ],\n",
              "       [-1. ,  4. ,  2. ]])"
            ]
          },
          "metadata": {
            "tags": []
          },
          "execution_count": 65
        }
      ]
    },
    {
      "metadata": {
        "id": "knMQflVc2fn3",
        "colab_type": "code",
        "outputId": "ca7a5778-6ebf-4beb-83a6-a61e6c785902",
        "colab": {
          "base_uri": "https://localhost:8080/",
          "height": 124
        }
      },
      "cell_type": "code",
      "source": [
        "imp = Imputer(strategy='median')\n",
        "imp.fit_transform(data)"
      ],
      "execution_count": 0,
      "outputs": [
        {
          "output_type": "stream",
          "text": [
            "/usr/local/lib/python3.6/dist-packages/sklearn/utils/deprecation.py:58: DeprecationWarning: Class Imputer is deprecated; Imputer was deprecated in version 0.20 and will be removed in 0.22. Import impute.SimpleImputer from sklearn instead.\n",
            "  warnings.warn(msg, category=DeprecationWarning)\n"
          ],
          "name": "stderr"
        },
        {
          "output_type": "execute_result",
          "data": {
            "text/plain": [
              "array([[ 1. ,  3.5,  2. ],\n",
              "       [ 2. ,  3. ,  2. ],\n",
              "       [-1. ,  4. ,  2. ]])"
            ]
          },
          "metadata": {
            "tags": []
          },
          "execution_count": 60
        }
      ]
    },
    {
      "metadata": {
        "id": "bdV8Tv_U2rsK",
        "colab_type": "code",
        "outputId": "615c55c1-2a68-45a8-a671-2e0ecc37a9d0",
        "colab": {
          "base_uri": "https://localhost:8080/",
          "height": 124
        }
      },
      "cell_type": "code",
      "source": [
        "imp = Imputer(strategy='most_frequent')\n",
        "imp.fit_transform(data)"
      ],
      "execution_count": 0,
      "outputs": [
        {
          "output_type": "stream",
          "text": [
            "/usr/local/lib/python3.6/dist-packages/sklearn/utils/deprecation.py:58: DeprecationWarning: Class Imputer is deprecated; Imputer was deprecated in version 0.20 and will be removed in 0.22. Import impute.SimpleImputer from sklearn instead.\n",
            "  warnings.warn(msg, category=DeprecationWarning)\n"
          ],
          "name": "stderr"
        },
        {
          "output_type": "execute_result",
          "data": {
            "text/plain": [
              "array([[ 1.,  3.,  2.],\n",
              "       [ 2.,  3.,  2.],\n",
              "       [-1.,  4.,  2.]])"
            ]
          },
          "metadata": {
            "tags": []
          },
          "execution_count": 61
        }
      ]
    }
  ]
}