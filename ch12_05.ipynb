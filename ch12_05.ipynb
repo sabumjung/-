{
  "nbformat": 4,
  "nbformat_minor": 0,
  "metadata": {
    "colab": {
      "name": "ch12_05.ipynb",
      "version": "0.3.2",
      "provenance": [],
      "include_colab_link": true
    },
    "kernelspec": {
      "name": "python3",
      "display_name": "Python 3"
    },
    "accelerator": "GPU"
  },
  "cells": [
    {
      "cell_type": "markdown",
      "metadata": {
        "id": "view-in-github",
        "colab_type": "text"
      },
      "source": [
        "<a href=\"https://colab.research.google.com/github/sabumjung/Machine-Learning-Algorithm/blob/master/ch12_05.ipynb\" target=\"_parent\"><img src=\"https://colab.research.google.com/assets/colab-badge.svg\" alt=\"Open In Colab\"/></a>"
      ]
    },
    {
      "metadata": {
        "id": "UkBFI_-NXWO1",
        "colab_type": "code",
        "colab": {
          "base_uri": "https://localhost:8080/",
          "height": 50
        },
        "outputId": "45a757f1-ecc6-4639-fff0-624aa552a7bf"
      },
      "cell_type": "code",
      "source": [
        "!pip install nltk"
      ],
      "execution_count": 10,
      "outputs": [
        {
          "output_type": "stream",
          "text": [
            "Requirement already satisfied: nltk in /usr/local/lib/python3.6/dist-packages (3.2.5)\n",
            "Requirement already satisfied: six in /usr/local/lib/python3.6/dist-packages (from nltk) (1.11.0)\n"
          ],
          "name": "stdout"
        }
      ]
    },
    {
      "metadata": {
        "id": "2PIhVcxPVtob",
        "colab_type": "code",
        "colab": {}
      },
      "cell_type": "code",
      "source": [
        "from nltk.stem.snowball import SnowballStemmer\n",
        "from nltk.stem.snowball import PorterStemmer\n",
        "from nltk.stem.lancaster import LancasterStemmer"
      ],
      "execution_count": 0,
      "outputs": []
    },
    {
      "metadata": {
        "id": "TL_gecJnYgQp",
        "colab_type": "code",
        "colab": {
          "base_uri": "https://localhost:8080/",
          "height": 66
        },
        "outputId": "b04d6578-68f3-450b-cfa1-961eb149e1e9"
      },
      "cell_type": "code",
      "source": [
        "import nltk\n",
        "nltk.download('stopwords')"
      ],
      "execution_count": 18,
      "outputs": [
        {
          "output_type": "stream",
          "text": [
            "[nltk_data] Downloading package stopwords to /root/nltk_data...\n",
            "[nltk_data]   Unzipping corpora/stopwords.zip.\n"
          ],
          "name": "stdout"
        },
        {
          "output_type": "execute_result",
          "data": {
            "text/plain": [
              "True"
            ]
          },
          "metadata": {
            "tags": []
          },
          "execution_count": 18
        }
      ]
    },
    {
      "metadata": {
        "id": "f6Rm0R-xYBc_",
        "colab_type": "code",
        "colab": {
          "base_uri": "https://localhost:8080/",
          "height": 283
        },
        "outputId": "b2fd1c12-971b-4060-acf2-2d9e4ee15efc"
      },
      "cell_type": "code",
      "source": [
        "print('English Snowball stemming:')\n",
        "ess = SnowballStemmer('english', ignore_stopwords=True)\n",
        "print(ess.stem('flies'))\n",
        "\n",
        "print('French Snowball stemming:')\n",
        "fss = SnowballStemmer('french', ignore_stopwords=True)\n",
        "print(fss.stem('courais'))\n",
        "\n",
        "print('English Snowball stemming:')\n",
        "print(ess.stem('teeth'))\n",
        "\n",
        "print('Porter stemming:')\n",
        "ps = PorterStemmer()\n",
        "print(ps.stem('teeth'))\n",
        "\n",
        "print('Lancaster stemming:')\n",
        "ls = LancasterStemmer()\n",
        "print(ls.stem('teeth'))\n",
        "\n",
        "print('Porter stemming:')\n",
        "print(ps.stem('teen'))\n",
        "print(ps.stem('teenager'))\n",
        "\n",
        "print('Lancaster stemming:')\n",
        "print(ls.stem('teen'))\n",
        "print(ls.stem('teenager'))"
      ],
      "execution_count": 19,
      "outputs": [
        {
          "output_type": "stream",
          "text": [
            "English Snowball stemming:\n",
            "fli\n",
            "French Snowball stemming:\n",
            "cour\n",
            "English Snowball stemming:\n",
            "teeth\n",
            "Porter stemming:\n",
            "teeth\n",
            "Lancaster stemming:\n",
            "tee\n",
            "Porter stemming:\n",
            "teen\n",
            "teenag\n",
            "Lancaster stemming:\n",
            "teen\n",
            "teen\n"
          ],
          "name": "stdout"
        }
      ]
    },
    {
      "metadata": {
        "id": "g8vR0UfxYcCg",
        "colab_type": "code",
        "colab": {}
      },
      "cell_type": "code",
      "source": [
        ""
      ],
      "execution_count": 0,
      "outputs": []
    }
  ]
}